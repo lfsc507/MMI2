{
 "cells": [
  {
   "cell_type": "code",
   "execution_count": 1,
   "metadata": {},
   "outputs": [],
   "source": [
    "import numpy as np\n",
    "import matplotlib.pyplot as plt\n",
    "import pandas as pd\n",
    "import seaborn as sns"
   ]
  },
  {
   "cell_type": "code",
   "execution_count": 2,
   "metadata": {},
   "outputs": [],
   "source": [
    "from sympy import *"
   ]
  },
  {
   "cell_type": "code",
   "execution_count": 3,
   "metadata": {},
   "outputs": [],
   "source": [
    "s, kon, koff, konp, koffp, g, a, b, a1, a2, b1, b2, a1p, b1p = \\\n",
    "    symbols((r'\\sigma_R', r'\\kappa_\\text{on}', r'\\kappa_\\text{off}', r'\\kappa_\\text{on}^\\prime', r'\\kappa_\\text{off}^\\prime', r'\\gamma', r'\\alpha', r'\\beta', r'\\alpha_1', r'\\alpha_2', r'\\beta_1', r'\\beta_2', r'\\alpha_1^\\prime', r'\\beta_1^\\prime'), positive=True, real=True)\n",
    "srp, kon1, koff1, kon2, koff2, b2p, gp = \\\n",
    "    symbols((r'\\sigma_r^\\prime', r'\\kappa_1^\\text{on}', r'\\kappa_1^\\text{off}', r'\\kappa_2^\\text{on}', r'\\kappa_2^\\text{off}', r'\\beta_2^\\prime', r'\\gamma^\\prime'), positive=True, real=True)"
   ]
  },
  {
   "cell_type": "code",
   "execution_count": 4,
   "metadata": {},
   "outputs": [],
   "source": [
    "R, r, rp, C1, C2, C1p = \\\n",
    "    symbols(('R', 'r', r'r^\\prime', r'C_1', r'C_2', r'C_1^\\prime'), positive=True, real=True)"
   ]
  },
  {
   "cell_type": "code",
   "execution_count": null,
   "metadata": {},
   "outputs": [],
   "source": []
  },
  {
   "cell_type": "code",
   "execution_count": 5,
   "metadata": {},
   "outputs": [],
   "source": [
    "def coefficient_plot(*expressions, height=3):\n",
    "    # expression, title, width\n",
    "    total_width = sum(e[2] for e in expressions)\n",
    "    width_ratios = [e[2] / total_width for e in expressions]\n",
    "    fig, axs = plt.subplots(figsize=(total_width, height), ncols=len(expressions), gridspec_kw={'width_ratios': width_ratios})\n",
    "    for (i, (ax, (exp, title, width, *rest))) in enumerate(zip(axs, expressions)):\n",
    "        ax.set_title(title)\n",
    "        terms = poly(exp).terms()\n",
    "        degs = [sum(x[0]) for x in terms]\n",
    "        coeffs = [x[1] for x in terms]\n",
    "        df = pd.DataFrame({'Degree': degs, 'Coefficient': coeffs}, dtype='int64')\n",
    "        sns.histplot(data=df, x='Coefficient', hue='Degree', fill=True,\n",
    "             discrete=True, multiple='stack', palette='rocket', ax=ax)\n",
    "        if len(rest) > 0:\n",
    "            ax.set_xticks(rest[0])\n",
    "        if len(rest) > 1:\n",
    "            ax.set_ylim(top=rest[1])\n",
    "        if i > 0:\n",
    "            ax.set_ylabel('')\n",
    "    fig.tight_layout()"
   ]
  },
  {
   "cell_type": "code",
   "execution_count": null,
   "metadata": {},
   "outputs": [],
   "source": []
  },
  {
   "cell_type": "markdown",
   "metadata": {
    "tags": []
   },
   "source": [
    "## C1KO"
   ]
  },
  {
   "cell_type": "code",
   "execution_count": 6,
   "metadata": {},
   "outputs": [],
   "source": [
    "rhs_R = s - kon*R*r*r + koff*C2 - R + 2*b2*g*C2\n",
    "rhs_r = 1 - 2*kon*R*r*r + 2*koff*C2 - g*r + 2*b2*g*C2 + 2*a2*C2\n",
    "rhs_C2 = kon*R*r*r - koff*C2 - a2*C2 - 2*b2*g*C2"
   ]
  },
  {
   "cell_type": "code",
   "execution_count": 7,
   "metadata": {},
   "outputs": [
    {
     "data": {
      "text/latex": [
       "$\\displaystyle 2 C_{2} \\beta_2 \\gamma + C_{2} \\kappa_\\text{off} - R \\kappa_\\text{on} r^{2} - R + \\sigma_R$"
      ],
      "text/plain": [
       "2*C_2*\\beta_2*\\gamma + C_2*\\kappa_\\text{off} - R*\\kappa_\\text{on}*r**2 - R + \\sigma_R"
      ]
     },
     "execution_count": 7,
     "metadata": {},
     "output_type": "execute_result"
    }
   ],
   "source": [
    "rhs_R"
   ]
  },
  {
   "cell_type": "code",
   "execution_count": 8,
   "metadata": {},
   "outputs": [
    {
     "data": {
      "text/latex": [
       "$\\displaystyle 2 C_{2} \\alpha_2 + 2 C_{2} \\beta_2 \\gamma + 2 C_{2} \\kappa_\\text{off} - 2 R \\kappa_\\text{on} r^{2} - \\gamma r + 1$"
      ],
      "text/plain": [
       "2*C_2*\\alpha_2 + 2*C_2*\\beta_2*\\gamma + 2*C_2*\\kappa_\\text{off} - 2*R*\\kappa_\\text{on}*r**2 - \\gamma*r + 1"
      ]
     },
     "execution_count": 8,
     "metadata": {},
     "output_type": "execute_result"
    }
   ],
   "source": [
    "rhs_r"
   ]
  },
  {
   "cell_type": "code",
   "execution_count": 9,
   "metadata": {},
   "outputs": [
    {
     "data": {
      "text/latex": [
       "$\\displaystyle - C_{2} \\alpha_2 - 2 C_{2} \\beta_2 \\gamma - C_{2} \\kappa_\\text{off} + R \\kappa_\\text{on} r^{2}$"
      ],
      "text/plain": [
       "-C_2*\\alpha_2 - 2*C_2*\\beta_2*\\gamma - C_2*\\kappa_\\text{off} + R*\\kappa_\\text{on}*r**2"
      ]
     },
     "execution_count": 9,
     "metadata": {},
     "output_type": "execute_result"
    }
   ],
   "source": [
    "rhs_C2"
   ]
  },
  {
   "cell_type": "code",
   "execution_count": 10,
   "metadata": {},
   "outputs": [
    {
     "data": {
      "text/latex": [
       "$\\displaystyle \\left[\\begin{matrix}- \\kappa_\\text{on} r^{2} - 1 & - 2 R \\kappa_\\text{on} r & 2 \\beta_2 \\gamma + \\kappa_\\text{off}\\\\- 2 \\kappa_\\text{on} r^{2} & - 4 R \\kappa_\\text{on} r - \\gamma & 2 \\alpha_2 + 2 \\beta_2 \\gamma + 2 \\kappa_\\text{off}\\\\\\kappa_\\text{on} r^{2} & 2 R \\kappa_\\text{on} r & - \\alpha_2 - 2 \\beta_2 \\gamma - \\kappa_\\text{off}\\end{matrix}\\right]$"
      ],
      "text/plain": [
       "Matrix([\n",
       "[-\\kappa_\\text{on}*r**2 - 1,          -2*R*\\kappa_\\text{on}*r,                2*\\beta_2*\\gamma + \\kappa_\\text{off}],\n",
       "[  -2*\\kappa_\\text{on}*r**2, -4*R*\\kappa_\\text{on}*r - \\gamma, 2*\\alpha_2 + 2*\\beta_2*\\gamma + 2*\\kappa_\\text{off}],\n",
       "[     \\kappa_\\text{on}*r**2,           2*R*\\kappa_\\text{on}*r,    -\\alpha_2 - 2*\\beta_2*\\gamma - \\kappa_\\text{off}]])"
      ]
     },
     "execution_count": 10,
     "metadata": {},
     "output_type": "execute_result"
    }
   ],
   "source": [
    "J = Matrix([rhs_R, rhs_r, rhs_C2]).jacobian(Matrix([R, r, C2]))\n",
    "J"
   ]
  },
  {
   "cell_type": "code",
   "execution_count": 11,
   "metadata": {},
   "outputs": [
    {
     "data": {
      "text/latex": [
       "$\\displaystyle \\operatorname{PurePoly}{\\left( \\lambda^{3} + \\left(4 R \\kappa_\\text{on} r + \\alpha_2 + 2 \\beta_2 \\gamma + \\gamma + \\kappa_\\text{off} + \\kappa_\\text{on} r^{2} + 1\\right) \\lambda^{2} + \\left(4 R \\beta_2 \\gamma \\kappa_\\text{on} r + 4 R \\kappa_\\text{on} r + \\alpha_2 \\gamma + \\alpha_2 \\kappa_\\text{on} r^{2} + \\alpha_2 + 2 \\beta_2 \\gamma^{2} + 2 \\beta_2 \\gamma + \\gamma \\kappa_\\text{off} + \\gamma \\kappa_\\text{on} r^{2} + \\gamma + \\kappa_\\text{off}\\right) \\lambda + 4 R \\beta_2 \\gamma \\kappa_\\text{on} r + \\alpha_2 \\gamma \\kappa_\\text{on} r^{2} + \\alpha_2 \\gamma + 2 \\beta_2 \\gamma^{2} + \\gamma \\kappa_\\text{off}, \\lambda, domain=\\mathbb{Z}\\left[r, R, \\alpha_2, \\beta_2, \\gamma, \\kappa_\\text{off}, \\kappa_\\text{on}\\right] \\right)}$"
      ],
      "text/plain": [
       "PurePoly(lambda**3 + (4*R*\\kappa_\\text{on}*r + \\alpha_2 + 2*\\beta_2*\\gamma + \\gamma + \\kappa_\\text{off} + \\kappa_\\text{on}*r**2 + 1)*lambda**2 + (4*R*\\beta_2*\\gamma*\\kappa_\\text{on}*r + 4*R*\\kappa_\\text{on}*r + \\alpha_2*\\gamma + \\alpha_2*\\kappa_\\text{on}*r**2 + \\alpha_2 + 2*\\beta_2*\\gamma**2 + 2*\\beta_2*\\gamma + \\gamma*\\kappa_\\text{off} + \\gamma*\\kappa_\\text{on}*r**2 + \\gamma + \\kappa_\\text{off})*lambda + 4*R*\\beta_2*\\gamma*\\kappa_\\text{on}*r + \\alpha_2*\\gamma*\\kappa_\\text{on}*r**2 + \\alpha_2*\\gamma + 2*\\beta_2*\\gamma**2 + \\gamma*\\kappa_\\text{off}, lambda, domain='ZZ[r,R,\\alpha_2,\\beta_2,\\gamma,\\kappa_\\text{off},\\kappa_\\text{on}]')"
      ]
     },
     "execution_count": 11,
     "metadata": {},
     "output_type": "execute_result"
    }
   ],
   "source": [
    "p = J.charpoly()\n",
    "cfs = p.all_coeffs()\n",
    "p"
   ]
  },
  {
   "cell_type": "markdown",
   "metadata": {},
   "source": [
    "#### All coefficients are positive."
   ]
  },
  {
   "cell_type": "code",
   "execution_count": 12,
   "metadata": {},
   "outputs": [
    {
     "data": {
      "text/latex": [
       "$\\displaystyle 16 R^{2} \\beta_2 \\gamma \\kappa_\\text{on}^{2} r^{2} + 16 R^{2} \\kappa_\\text{on}^{2} r^{2} + 4 R \\alpha_2 \\beta_2 \\gamma \\kappa_\\text{on} r + 4 R \\alpha_2 \\gamma \\kappa_\\text{on} r + 4 R \\alpha_2 \\kappa_\\text{on}^{2} r^{3} + 8 R \\alpha_2 \\kappa_\\text{on} r + 8 R \\beta_2^{2} \\gamma^{2} \\kappa_\\text{on} r + 12 R \\beta_2 \\gamma^{2} \\kappa_\\text{on} r + 4 R \\beta_2 \\gamma \\kappa_\\text{off} \\kappa_\\text{on} r + 4 R \\beta_2 \\gamma \\kappa_\\text{on}^{2} r^{3} + 16 R \\beta_2 \\gamma \\kappa_\\text{on} r + 4 R \\gamma \\kappa_\\text{off} \\kappa_\\text{on} r + 4 R \\gamma \\kappa_\\text{on}^{2} r^{3} + 8 R \\gamma \\kappa_\\text{on} r + 8 R \\kappa_\\text{off} \\kappa_\\text{on} r + 4 R \\kappa_\\text{on}^{2} r^{3} + 4 R \\kappa_\\text{on} r + \\alpha_2^{2} \\gamma + \\alpha_2^{2} \\kappa_\\text{on} r^{2} + \\alpha_2^{2} + 4 \\alpha_2 \\beta_2 \\gamma^{2} + 2 \\alpha_2 \\beta_2 \\gamma \\kappa_\\text{on} r^{2} + 4 \\alpha_2 \\beta_2 \\gamma + \\alpha_2 \\gamma^{2} + 2 \\alpha_2 \\gamma \\kappa_\\text{off} + 2 \\alpha_2 \\gamma \\kappa_\\text{on} r^{2} + 2 \\alpha_2 \\gamma + \\alpha_2 \\kappa_\\text{off} \\kappa_\\text{on} r^{2} + 2 \\alpha_2 \\kappa_\\text{off} + \\alpha_2 \\kappa_\\text{on}^{2} r^{4} + 2 \\alpha_2 \\kappa_\\text{on} r^{2} + \\alpha_2 + 4 \\beta_2^{2} \\gamma^{3} + 4 \\beta_2^{2} \\gamma^{2} + 2 \\beta_2 \\gamma^{3} + 4 \\beta_2 \\gamma^{2} \\kappa_\\text{off} + 4 \\beta_2 \\gamma^{2} \\kappa_\\text{on} r^{2} + 4 \\beta_2 \\gamma^{2} + 4 \\beta_2 \\gamma \\kappa_\\text{off} + 2 \\beta_2 \\gamma \\kappa_\\text{on} r^{2} + 2 \\beta_2 \\gamma + \\gamma^{2} \\kappa_\\text{off} + \\gamma^{2} \\kappa_\\text{on} r^{2} + \\gamma^{2} + \\gamma \\kappa_\\text{off}^{2} + 2 \\gamma \\kappa_\\text{off} \\kappa_\\text{on} r^{2} + 2 \\gamma \\kappa_\\text{off} + \\gamma \\kappa_\\text{on}^{2} r^{4} + 2 \\gamma \\kappa_\\text{on} r^{2} + \\gamma + \\kappa_\\text{off}^{2} + \\kappa_\\text{off} \\kappa_\\text{on} r^{2} + \\kappa_\\text{off}$"
      ],
      "text/plain": [
       "16*R**2*\\beta_2*\\gamma*\\kappa_\\text{on}**2*r**2 + 16*R**2*\\kappa_\\text{on}**2*r**2 + 4*R*\\alpha_2*\\beta_2*\\gamma*\\kappa_\\text{on}*r + 4*R*\\alpha_2*\\gamma*\\kappa_\\text{on}*r + 4*R*\\alpha_2*\\kappa_\\text{on}**2*r**3 + 8*R*\\alpha_2*\\kappa_\\text{on}*r + 8*R*\\beta_2**2*\\gamma**2*\\kappa_\\text{on}*r + 12*R*\\beta_2*\\gamma**2*\\kappa_\\text{on}*r + 4*R*\\beta_2*\\gamma*\\kappa_\\text{off}*\\kappa_\\text{on}*r + 4*R*\\beta_2*\\gamma*\\kappa_\\text{on}**2*r**3 + 16*R*\\beta_2*\\gamma*\\kappa_\\text{on}*r + 4*R*\\gamma*\\kappa_\\text{off}*\\kappa_\\text{on}*r + 4*R*\\gamma*\\kappa_\\text{on}**2*r**3 + 8*R*\\gamma*\\kappa_\\text{on}*r + 8*R*\\kappa_\\text{off}*\\kappa_\\text{on}*r + 4*R*\\kappa_\\text{on}**2*r**3 + 4*R*\\kappa_\\text{on}*r + \\alpha_2**2*\\gamma + \\alpha_2**2*\\kappa_\\text{on}*r**2 + \\alpha_2**2 + 4*\\alpha_2*\\beta_2*\\gamma**2 + 2*\\alpha_2*\\beta_2*\\gamma*\\kappa_\\text{on}*r**2 + 4*\\alpha_2*\\beta_2*\\gamma + \\alpha_2*\\gamma**2 + 2*\\alpha_2*\\gamma*\\kappa_\\text{off} + 2*\\alpha_2*\\gamma*\\kappa_\\text{on}*r**2 + 2*\\alpha_2*\\gamma + \\alpha_2*\\kappa_\\text{off}*\\kappa_\\text{on}*r**2 + 2*\\alpha_2*\\kappa_\\text{off} + \\alpha_2*\\kappa_\\text{on}**2*r**4 + 2*\\alpha_2*\\kappa_\\text{on}*r**2 + \\alpha_2 + 4*\\beta_2**2*\\gamma**3 + 4*\\beta_2**2*\\gamma**2 + 2*\\beta_2*\\gamma**3 + 4*\\beta_2*\\gamma**2*\\kappa_\\text{off} + 4*\\beta_2*\\gamma**2*\\kappa_\\text{on}*r**2 + 4*\\beta_2*\\gamma**2 + 4*\\beta_2*\\gamma*\\kappa_\\text{off} + 2*\\beta_2*\\gamma*\\kappa_\\text{on}*r**2 + 2*\\beta_2*\\gamma + \\gamma**2*\\kappa_\\text{off} + \\gamma**2*\\kappa_\\text{on}*r**2 + \\gamma**2 + \\gamma*\\kappa_\\text{off}**2 + 2*\\gamma*\\kappa_\\text{off}*\\kappa_\\text{on}*r**2 + 2*\\gamma*\\kappa_\\text{off} + \\gamma*\\kappa_\\text{on}**2*r**4 + 2*\\gamma*\\kappa_\\text{on}*r**2 + \\gamma + \\kappa_\\text{off}**2 + \\kappa_\\text{off}*\\kappa_\\text{on}*r**2 + \\kappa_\\text{off}"
      ]
     },
     "execution_count": 12,
     "metadata": {},
     "output_type": "execute_result"
    }
   ],
   "source": [
    "# Note cfs[x] is a_x in some literature for RH (https://math24.net/routh-hurwitz-criterion.html)\n",
    "# In our SI, the subsript order is the opposite:  cfs[-(x+1)] is a_x\n",
    "\n",
    "u = (cfs[1]*cfs[2] - cfs[0]*cfs[3]).expand().simplify()\n",
    "u"
   ]
  },
  {
   "cell_type": "code",
   "execution_count": 13,
   "metadata": {},
   "outputs": [
    {
     "data": {
      "text/plain": [
       "[True, True, True, True, True]"
      ]
     },
     "execution_count": 13,
     "metadata": {},
     "output_type": "execute_result"
    }
   ],
   "source": [
    "[cf.is_positive for cf in [*cfs, u]]"
   ]
  },
  {
   "cell_type": "code",
   "execution_count": 14,
   "metadata": {},
   "outputs": [
    {
     "data": {
      "image/png": "[encoded data removed]",
      "text/plain": [
       "<Figure size 864x216 with 4 Axes>"
      ]
     },
     "metadata": {
      "needs_background": "light"
     },
     "output_type": "display_data"
    }
   ],
   "source": [
    "coefficient_plot([cfs[3], '$a_0$', 2, range(6), 8], \n",
    "                 [cfs[2], '$a_1$', 2, range(6), 8], \n",
    "                 [cfs[1], '$a_2$', 2, range(6), 8],\n",
    "                 [u, '$u$', 6])\n",
    "#plt.savefig('rh_c1ko.svg')"
   ]
  },
  {
   "cell_type": "code",
   "execution_count": null,
   "metadata": {},
   "outputs": [],
   "source": []
  },
  {
   "cell_type": "markdown",
   "metadata": {
    "tags": []
   },
   "source": [
    "## C2KO"
   ]
  },
  {
   "cell_type": "code",
   "execution_count": 15,
   "metadata": {},
   "outputs": [],
   "source": [
    "rhs_R = s - kon*R*r - konp*R*r + koff*C1 + koffp*C1p - R + b1*g*C1 + b1p*g*C1p\n",
    "rhs_r = 1 - kon*R*r - konp*R*r + koff*C1 + koffp*C1p - g*r + a1*C1 + a1p*C1p\n",
    "rhs_C1 = kon*R*r - koff*C1 - a1*C1 - b1*g*C1\n",
    "rhs_C1p = konp*R*r - koffp*C1p - a1p*C1p - b1p*g*C1p"
   ]
  },
  {
   "cell_type": "code",
   "execution_count": 16,
   "metadata": {},
   "outputs": [
    {
     "data": {
      "text/latex": [
       "$\\displaystyle \\left[\\begin{matrix}- \\kappa_\\text{on} r - \\kappa_\\text{on}^\\prime r - 1 & - R \\kappa_\\text{on} - R \\kappa_\\text{on}^\\prime & \\beta_1 \\gamma + \\kappa_\\text{off} & \\beta_1^\\prime \\gamma + \\kappa_\\text{off}^\\prime\\\\- \\kappa_\\text{on} r - \\kappa_\\text{on}^\\prime r & - R \\kappa_\\text{on} - R \\kappa_\\text{on}^\\prime - \\gamma & \\alpha_1 + \\kappa_\\text{off} & \\alpha_1^\\prime + \\kappa_\\text{off}^\\prime\\\\\\kappa_\\text{on} r & R \\kappa_\\text{on} & - \\alpha_1 - \\beta_1 \\gamma - \\kappa_\\text{off} & 0\\\\\\kappa_\\text{on}^\\prime r & R \\kappa_\\text{on}^\\prime & 0 & - \\alpha_1^\\prime - \\beta_1^\\prime \\gamma - \\kappa_\\text{off}^\\prime\\end{matrix}\\right]$"
      ],
      "text/plain": [
       "Matrix([\n",
       "[-\\kappa_\\text{on}*r - \\kappa_\\text{on}^\\prime*r - 1,          -R*\\kappa_\\text{on} - R*\\kappa_\\text{on}^\\prime,             \\beta_1*\\gamma + \\kappa_\\text{off},                    \\beta_1^\\prime*\\gamma + \\kappa_\\text{off}^\\prime],\n",
       "[    -\\kappa_\\text{on}*r - \\kappa_\\text{on}^\\prime*r, -R*\\kappa_\\text{on} - R*\\kappa_\\text{on}^\\prime - \\gamma,                   \\alpha_1 + \\kappa_\\text{off},                          \\alpha_1^\\prime + \\kappa_\\text{off}^\\prime],\n",
       "[                                 \\kappa_\\text{on}*r,                                       R*\\kappa_\\text{on}, -\\alpha_1 - \\beta_1*\\gamma - \\kappa_\\text{off},                                                                   0],\n",
       "[                          \\kappa_\\text{on}^\\prime*r,                                R*\\kappa_\\text{on}^\\prime,                                              0, -\\alpha_1^\\prime - \\beta_1^\\prime*\\gamma - \\kappa_\\text{off}^\\prime]])"
      ]
     },
     "execution_count": 16,
     "metadata": {},
     "output_type": "execute_result"
    }
   ],
   "source": [
    "J = Matrix([rhs_R, rhs_r, rhs_C1, rhs_C1p]).jacobian(Matrix([R, r, C1, C1p]))\n",
    "J"
   ]
  },
  {
   "cell_type": "code",
   "execution_count": 17,
   "metadata": {
    "tags": []
   },
   "outputs": [],
   "source": [
    "p = J.charpoly()\n",
    "cfs = p.all_coeffs()\n",
    "u1 = (cfs[1]*cfs[2] - cfs[0]*cfs[3]).expand().simplify()"
   ]
  },
  {
   "cell_type": "code",
   "execution_count": 18,
   "metadata": {},
   "outputs": [
    {
     "data": {
      "text/latex": [
       "$\\displaystyle R \\alpha_1 \\beta_1^\\prime \\gamma \\kappa_\\text{on}^\\prime + R \\alpha_1^\\prime \\beta_1 \\gamma \\kappa_\\text{on} + R \\beta_1 \\beta_1^\\prime \\gamma^{2} \\kappa_\\text{on} + R \\beta_1 \\beta_1^\\prime \\gamma^{2} \\kappa_\\text{on}^\\prime + R \\beta_1 \\gamma \\kappa_\\text{off}^\\prime \\kappa_\\text{on} + R \\beta_1^\\prime \\gamma \\kappa_\\text{off} \\kappa_\\text{on}^\\prime + \\alpha_1 \\alpha_1^\\prime \\gamma \\kappa_\\text{on} r + \\alpha_1 \\alpha_1^\\prime \\gamma \\kappa_\\text{on}^\\prime r + \\alpha_1 \\alpha_1^\\prime \\gamma + \\alpha_1 \\beta_1^\\prime \\gamma^{2} \\kappa_\\text{on} r + \\alpha_1 \\beta_1^\\prime \\gamma^{2} + \\alpha_1 \\gamma \\kappa_\\text{off}^\\prime \\kappa_\\text{on} r + \\alpha_1 \\gamma \\kappa_\\text{off}^\\prime + \\alpha_1^\\prime \\beta_1 \\gamma^{2} \\kappa_\\text{on}^\\prime r + \\alpha_1^\\prime \\beta_1 \\gamma^{2} + \\alpha_1^\\prime \\gamma \\kappa_\\text{off} \\kappa_\\text{on}^\\prime r + \\alpha_1^\\prime \\gamma \\kappa_\\text{off} + \\beta_1 \\beta_1^\\prime \\gamma^{3} + \\beta_1 \\gamma^{2} \\kappa_\\text{off}^\\prime + \\beta_1^\\prime \\gamma^{2} \\kappa_\\text{off} + \\gamma \\kappa_\\text{off} \\kappa_\\text{off}^\\prime$"
      ],
      "text/plain": [
       "R*\\alpha_1*\\beta_1^\\prime*\\gamma*\\kappa_\\text{on}^\\prime + R*\\alpha_1^\\prime*\\beta_1*\\gamma*\\kappa_\\text{on} + R*\\beta_1*\\beta_1^\\prime*\\gamma**2*\\kappa_\\text{on} + R*\\beta_1*\\beta_1^\\prime*\\gamma**2*\\kappa_\\text{on}^\\prime + R*\\beta_1*\\gamma*\\kappa_\\text{off}^\\prime*\\kappa_\\text{on} + R*\\beta_1^\\prime*\\gamma*\\kappa_\\text{off}*\\kappa_\\text{on}^\\prime + \\alpha_1*\\alpha_1^\\prime*\\gamma*\\kappa_\\text{on}*r + \\alpha_1*\\alpha_1^\\prime*\\gamma*\\kappa_\\text{on}^\\prime*r + \\alpha_1*\\alpha_1^\\prime*\\gamma + \\alpha_1*\\beta_1^\\prime*\\gamma**2*\\kappa_\\text{on}*r + \\alpha_1*\\beta_1^\\prime*\\gamma**2 + \\alpha_1*\\gamma*\\kappa_\\text{off}^\\prime*\\kappa_\\text{on}*r + \\alpha_1*\\gamma*\\kappa_\\text{off}^\\prime + \\alpha_1^\\prime*\\beta_1*\\gamma**2*\\kappa_\\text{on}^\\prime*r + \\alpha_1^\\prime*\\beta_1*\\gamma**2 + \\alpha_1^\\prime*\\gamma*\\kappa_\\text{off}*\\kappa_\\text{on}^\\prime*r + \\alpha_1^\\prime*\\gamma*\\kappa_\\text{off} + \\beta_1*\\beta_1^\\prime*\\gamma**3 + \\beta_1*\\gamma**2*\\kappa_\\text{off}^\\prime + \\beta_1^\\prime*\\gamma**2*\\kappa_\\text{off} + \\gamma*\\kappa_\\text{off}*\\kappa_\\text{off}^\\prime"
      ]
     },
     "execution_count": 18,
     "metadata": {},
     "output_type": "execute_result"
    }
   ],
   "source": [
    "cfs[4]"
   ]
  },
  {
   "cell_type": "code",
   "execution_count": 19,
   "metadata": {},
   "outputs": [
    {
     "data": {
      "text/latex": [
       "$\\displaystyle R \\alpha_1 \\beta_1^\\prime \\gamma \\kappa_\\text{on}^\\prime + R \\alpha_1 \\kappa_\\text{on}^\\prime + R \\alpha_1^\\prime \\beta_1 \\gamma \\kappa_\\text{on} + R \\alpha_1^\\prime \\kappa_\\text{on} + R \\beta_1 \\beta_1^\\prime \\gamma^{2} \\kappa_\\text{on} + R \\beta_1 \\beta_1^\\prime \\gamma^{2} \\kappa_\\text{on}^\\prime + R \\beta_1 \\gamma \\kappa_\\text{off}^\\prime \\kappa_\\text{on} + R \\beta_1 \\gamma \\kappa_\\text{on} + R \\beta_1 \\gamma \\kappa_\\text{on}^\\prime + R \\beta_1^\\prime \\gamma \\kappa_\\text{off} \\kappa_\\text{on}^\\prime + R \\beta_1^\\prime \\gamma \\kappa_\\text{on} + R \\beta_1^\\prime \\gamma \\kappa_\\text{on}^\\prime + R \\kappa_\\text{off} \\kappa_\\text{on}^\\prime + R \\kappa_\\text{off}^\\prime \\kappa_\\text{on} + \\alpha_1 \\alpha_1^\\prime \\gamma + \\alpha_1 \\alpha_1^\\prime \\kappa_\\text{on} r + \\alpha_1 \\alpha_1^\\prime \\kappa_\\text{on}^\\prime r + \\alpha_1 \\alpha_1^\\prime + \\alpha_1 \\beta_1^\\prime \\gamma^{2} + \\alpha_1 \\beta_1^\\prime \\gamma \\kappa_\\text{on} r + \\alpha_1 \\beta_1^\\prime \\gamma + \\alpha_1 \\gamma \\kappa_\\text{off}^\\prime + \\alpha_1 \\gamma \\kappa_\\text{on} r + \\alpha_1 \\gamma \\kappa_\\text{on}^\\prime r + \\alpha_1 \\gamma + \\alpha_1 \\kappa_\\text{off}^\\prime \\kappa_\\text{on} r + \\alpha_1 \\kappa_\\text{off}^\\prime + \\alpha_1^\\prime \\beta_1 \\gamma^{2} + \\alpha_1^\\prime \\beta_1 \\gamma \\kappa_\\text{on}^\\prime r + \\alpha_1^\\prime \\beta_1 \\gamma + \\alpha_1^\\prime \\gamma \\kappa_\\text{off} + \\alpha_1^\\prime \\gamma \\kappa_\\text{on} r + \\alpha_1^\\prime \\gamma \\kappa_\\text{on}^\\prime r + \\alpha_1^\\prime \\gamma + \\alpha_1^\\prime \\kappa_\\text{off} \\kappa_\\text{on}^\\prime r + \\alpha_1^\\prime \\kappa_\\text{off} + \\beta_1 \\beta_1^\\prime \\gamma^{3} + \\beta_1 \\beta_1^\\prime \\gamma^{2} + \\beta_1 \\gamma^{2} \\kappa_\\text{off}^\\prime + \\beta_1 \\gamma^{2} \\kappa_\\text{on}^\\prime r + \\beta_1 \\gamma^{2} + \\beta_1 \\gamma \\kappa_\\text{off}^\\prime + \\beta_1^\\prime \\gamma^{2} \\kappa_\\text{off} + \\beta_1^\\prime \\gamma^{2} \\kappa_\\text{on} r + \\beta_1^\\prime \\gamma^{2} + \\beta_1^\\prime \\gamma \\kappa_\\text{off} + \\gamma \\kappa_\\text{off} \\kappa_\\text{off}^\\prime + \\gamma \\kappa_\\text{off} \\kappa_\\text{on}^\\prime r + \\gamma \\kappa_\\text{off} + \\gamma \\kappa_\\text{off}^\\prime \\kappa_\\text{on} r + \\gamma \\kappa_\\text{off}^\\prime + \\kappa_\\text{off} \\kappa_\\text{off}^\\prime$"
      ],
      "text/plain": [
       "R*\\alpha_1*\\beta_1^\\prime*\\gamma*\\kappa_\\text{on}^\\prime + R*\\alpha_1*\\kappa_\\text{on}^\\prime + R*\\alpha_1^\\prime*\\beta_1*\\gamma*\\kappa_\\text{on} + R*\\alpha_1^\\prime*\\kappa_\\text{on} + R*\\beta_1*\\beta_1^\\prime*\\gamma**2*\\kappa_\\text{on} + R*\\beta_1*\\beta_1^\\prime*\\gamma**2*\\kappa_\\text{on}^\\prime + R*\\beta_1*\\gamma*\\kappa_\\text{off}^\\prime*\\kappa_\\text{on} + R*\\beta_1*\\gamma*\\kappa_\\text{on} + R*\\beta_1*\\gamma*\\kappa_\\text{on}^\\prime + R*\\beta_1^\\prime*\\gamma*\\kappa_\\text{off}*\\kappa_\\text{on}^\\prime + R*\\beta_1^\\prime*\\gamma*\\kappa_\\text{on} + R*\\beta_1^\\prime*\\gamma*\\kappa_\\text{on}^\\prime + R*\\kappa_\\text{off}*\\kappa_\\text{on}^\\prime + R*\\kappa_\\text{off}^\\prime*\\kappa_\\text{on} + \\alpha_1*\\alpha_1^\\prime*\\gamma + \\alpha_1*\\alpha_1^\\prime*\\kappa_\\text{on}*r + \\alpha_1*\\alpha_1^\\prime*\\kappa_\\text{on}^\\prime*r + \\alpha_1*\\alpha_1^\\prime + \\alpha_1*\\beta_1^\\prime*\\gamma**2 + \\alpha_1*\\beta_1^\\prime*\\gamma*\\kappa_\\text{on}*r + \\alpha_1*\\beta_1^\\prime*\\gamma + \\alpha_1*\\gamma*\\kappa_\\text{off}^\\prime + \\alpha_1*\\gamma*\\kappa_\\text{on}*r + \\alpha_1*\\gamma*\\kappa_\\text{on}^\\prime*r + \\alpha_1*\\gamma + \\alpha_1*\\kappa_\\text{off}^\\prime*\\kappa_\\text{on}*r + \\alpha_1*\\kappa_\\text{off}^\\prime + \\alpha_1^\\prime*\\beta_1*\\gamma**2 + \\alpha_1^\\prime*\\beta_1*\\gamma*\\kappa_\\text{on}^\\prime*r + \\alpha_1^\\prime*\\beta_1*\\gamma + \\alpha_1^\\prime*\\gamma*\\kappa_\\text{off} + \\alpha_1^\\prime*\\gamma*\\kappa_\\text{on}*r + \\alpha_1^\\prime*\\gamma*\\kappa_\\text{on}^\\prime*r + \\alpha_1^\\prime*\\gamma + \\alpha_1^\\prime*\\kappa_\\text{off}*\\kappa_\\text{on}^\\prime*r + \\alpha_1^\\prime*\\kappa_\\text{off} + \\beta_1*\\beta_1^\\prime*\\gamma**3 + \\beta_1*\\beta_1^\\prime*\\gamma**2 + \\beta_1*\\gamma**2*\\kappa_\\text{off}^\\prime + \\beta_1*\\gamma**2*\\kappa_\\text{on}^\\prime*r + \\beta_1*\\gamma**2 + \\beta_1*\\gamma*\\kappa_\\text{off}^\\prime + \\beta_1^\\prime*\\gamma**2*\\kappa_\\text{off} + \\beta_1^\\prime*\\gamma**2*\\kappa_\\text{on}*r + \\beta_1^\\prime*\\gamma**2 + \\beta_1^\\prime*\\gamma*\\kappa_\\text{off} + \\gamma*\\kappa_\\text{off}*\\kappa_\\text{off}^\\prime + \\gamma*\\kappa_\\text{off}*\\kappa_\\text{on}^\\prime*r + \\gamma*\\kappa_\\text{off} + \\gamma*\\kappa_\\text{off}^\\prime*\\kappa_\\text{on}*r + \\gamma*\\kappa_\\text{off}^\\prime + \\kappa_\\text{off}*\\kappa_\\text{off}^\\prime"
      ]
     },
     "execution_count": 19,
     "metadata": {},
     "output_type": "execute_result"
    }
   ],
   "source": [
    "cfs[3]"
   ]
  },
  {
   "cell_type": "code",
   "execution_count": 20,
   "metadata": {},
   "outputs": [
    {
     "data": {
      "text/plain": [
       "282"
      ]
     },
     "execution_count": 20,
     "metadata": {},
     "output_type": "execute_result"
    }
   ],
   "source": [
    "poly(u1).coeffs().__len__()"
   ]
  },
  {
   "cell_type": "code",
   "execution_count": 21,
   "metadata": {},
   "outputs": [
    {
     "data": {
      "text/latex": [
       "$\\displaystyle 1$"
      ],
      "text/plain": [
       "1"
      ]
     },
     "execution_count": 21,
     "metadata": {},
     "output_type": "execute_result"
    }
   ],
   "source": [
    "min(poly(u1).coeffs())"
   ]
  },
  {
   "cell_type": "code",
   "execution_count": 22,
   "metadata": {},
   "outputs": [],
   "source": [
    "v1 = (cfs[1]*cfs[2]*cfs[3] - cfs[1]**2*cfs[4]-cfs[0]*cfs[3]**2).expand().simplify()"
   ]
  },
  {
   "cell_type": "code",
   "execution_count": 23,
   "metadata": {},
   "outputs": [
    {
     "data": {
      "text/plain": [
       "5091"
      ]
     },
     "execution_count": 23,
     "metadata": {},
     "output_type": "execute_result"
    }
   ],
   "source": [
    "poly(v1).coeffs().__len__()"
   ]
  },
  {
   "cell_type": "code",
   "execution_count": 24,
   "metadata": {},
   "outputs": [
    {
     "data": {
      "text/latex": [
       "$\\displaystyle 1$"
      ],
      "text/plain": [
       "1"
      ]
     },
     "execution_count": 24,
     "metadata": {},
     "output_type": "execute_result"
    }
   ],
   "source": [
    "min(poly(v1).coeffs())"
   ]
  },
  {
   "cell_type": "code",
   "execution_count": 25,
   "metadata": {},
   "outputs": [
    {
     "data": {
      "text/plain": [
       "[True, True, True, True, True, True, True]"
      ]
     },
     "execution_count": 25,
     "metadata": {},
     "output_type": "execute_result"
    }
   ],
   "source": [
    "[cf.is_positive for cf in [*cfs, u1, v1]]"
   ]
  },
  {
   "cell_type": "markdown",
   "metadata": {},
   "source": [
    "**All coefficients and necessary expressions are always positive.**"
   ]
  },
  {
   "cell_type": "code",
   "execution_count": 26,
   "metadata": {},
   "outputs": [
    {
     "data": {
      "image/png": "[encoded data removed]",
      "text/plain": [
       "<Figure size 1116x216 with 6 Axes>"
      ]
     },
     "metadata": {
      "needs_background": "light"
     },
     "output_type": "display_data"
    }
   ],
   "source": [
    "coefficient_plot([cfs[4], '$a_0$', 1, range(3), 55], \n",
    "                 [cfs[3], '$a_1$', 1, range(3), 55], \n",
    "                 [cfs[2], '$a_2$', 1, range(3), 55], \n",
    "                 [cfs[1], '$a_3$', 1, range(3), 55],\n",
    "                 [u1, '$u$', 1.5], \n",
    "                 [v1, '$v$', 10, range(0, 21, 5)])\n",
    "#plt.savefig('rh_c2ko.svg')"
   ]
  },
  {
   "cell_type": "code",
   "execution_count": null,
   "metadata": {},
   "outputs": [],
   "source": []
  },
  {
   "cell_type": "markdown",
   "metadata": {},
   "source": [
    "## MMI1"
   ]
  },
  {
   "cell_type": "code",
   "execution_count": 27,
   "metadata": {},
   "outputs": [],
   "source": [
    "rhs_R = s - kon*R*r + koff*C1 - R + b*g*C1\n",
    "rhs_r = 1 - kon*R*r + koff*C1 - g*r + a*C1\n",
    "rhs_C1 = kon*R*r - koff*C1 - a*C1 - b*g*C1"
   ]
  },
  {
   "cell_type": "code",
   "execution_count": 28,
   "metadata": {},
   "outputs": [
    {
     "data": {
      "text/latex": [
       "$\\displaystyle C_{1} \\beta \\gamma + C_{1} \\kappa_\\text{off} - R \\kappa_\\text{on} r - R + \\sigma_R$"
      ],
      "text/plain": [
       "C_1*\\beta*\\gamma + C_1*\\kappa_\\text{off} - R*\\kappa_\\text{on}*r - R + \\sigma_R"
      ]
     },
     "execution_count": 28,
     "metadata": {},
     "output_type": "execute_result"
    }
   ],
   "source": [
    "rhs_R"
   ]
  },
  {
   "cell_type": "code",
   "execution_count": 29,
   "metadata": {},
   "outputs": [
    {
     "data": {
      "text/latex": [
       "$\\displaystyle C_{1} \\alpha + C_{1} \\kappa_\\text{off} - R \\kappa_\\text{on} r - \\gamma r + 1$"
      ],
      "text/plain": [
       "C_1*\\alpha + C_1*\\kappa_\\text{off} - R*\\kappa_\\text{on}*r - \\gamma*r + 1"
      ]
     },
     "execution_count": 29,
     "metadata": {},
     "output_type": "execute_result"
    }
   ],
   "source": [
    "rhs_r"
   ]
  },
  {
   "cell_type": "code",
   "execution_count": 30,
   "metadata": {},
   "outputs": [
    {
     "data": {
      "text/latex": [
       "$\\displaystyle - C_{1} \\alpha - C_{1} \\beta \\gamma - C_{1} \\kappa_\\text{off} + R \\kappa_\\text{on} r$"
      ],
      "text/plain": [
       "-C_1*\\alpha - C_1*\\beta*\\gamma - C_1*\\kappa_\\text{off} + R*\\kappa_\\text{on}*r"
      ]
     },
     "execution_count": 30,
     "metadata": {},
     "output_type": "execute_result"
    }
   ],
   "source": [
    "rhs_C1"
   ]
  },
  {
   "cell_type": "code",
   "execution_count": 31,
   "metadata": {},
   "outputs": [
    {
     "data": {
      "text/latex": [
       "$\\displaystyle \\left[\\begin{matrix}- \\kappa_\\text{on} r - 1 & - R \\kappa_\\text{on} & \\beta \\gamma + \\kappa_\\text{off}\\\\- \\kappa_\\text{on} r & - R \\kappa_\\text{on} - \\gamma & \\alpha + \\kappa_\\text{off}\\\\\\kappa_\\text{on} r & R \\kappa_\\text{on} & - \\alpha - \\beta \\gamma - \\kappa_\\text{off}\\end{matrix}\\right]$"
      ],
      "text/plain": [
       "Matrix([\n",
       "[-\\kappa_\\text{on}*r - 1,          -R*\\kappa_\\text{on},           \\beta*\\gamma + \\kappa_\\text{off}],\n",
       "[    -\\kappa_\\text{on}*r, -R*\\kappa_\\text{on} - \\gamma,                 \\alpha + \\kappa_\\text{off}],\n",
       "[     \\kappa_\\text{on}*r,           R*\\kappa_\\text{on}, -\\alpha - \\beta*\\gamma - \\kappa_\\text{off}]])"
      ]
     },
     "execution_count": 31,
     "metadata": {},
     "output_type": "execute_result"
    }
   ],
   "source": [
    "J = Matrix([rhs_R, rhs_r, rhs_C1]).jacobian(Matrix([R, r, C1]))\n",
    "J"
   ]
  },
  {
   "cell_type": "code",
   "execution_count": 32,
   "metadata": {},
   "outputs": [
    {
     "data": {
      "text/latex": [
       "$\\displaystyle \\operatorname{PurePoly}{\\left( \\lambda^{3} + \\left(R \\kappa_\\text{on} + \\alpha + \\beta \\gamma + \\gamma + \\kappa_\\text{off} + \\kappa_\\text{on} r + 1\\right) \\lambda^{2} + \\left(R \\beta \\gamma \\kappa_\\text{on} + R \\kappa_\\text{on} + \\alpha \\gamma + \\alpha \\kappa_\\text{on} r + \\alpha + \\beta \\gamma^{2} + \\beta \\gamma + \\gamma \\kappa_\\text{off} + \\gamma \\kappa_\\text{on} r + \\gamma + \\kappa_\\text{off}\\right) \\lambda + R \\beta \\gamma \\kappa_\\text{on} + \\alpha \\gamma \\kappa_\\text{on} r + \\alpha \\gamma + \\beta \\gamma^{2} + \\gamma \\kappa_\\text{off}, \\lambda, domain=\\mathbb{Z}\\left[r, R, \\alpha, \\beta, \\gamma, \\kappa_\\text{off}, \\kappa_\\text{on}\\right] \\right)}$"
      ],
      "text/plain": [
       "PurePoly(lambda**3 + (R*\\kappa_\\text{on} + \\alpha + \\beta*\\gamma + \\gamma + \\kappa_\\text{off} + \\kappa_\\text{on}*r + 1)*lambda**2 + (R*\\beta*\\gamma*\\kappa_\\text{on} + R*\\kappa_\\text{on} + \\alpha*\\gamma + \\alpha*\\kappa_\\text{on}*r + \\alpha + \\beta*\\gamma**2 + \\beta*\\gamma + \\gamma*\\kappa_\\text{off} + \\gamma*\\kappa_\\text{on}*r + \\gamma + \\kappa_\\text{off})*lambda + R*\\beta*\\gamma*\\kappa_\\text{on} + \\alpha*\\gamma*\\kappa_\\text{on}*r + \\alpha*\\gamma + \\beta*\\gamma**2 + \\gamma*\\kappa_\\text{off}, lambda, domain='ZZ[r,R,\\alpha,\\beta,\\gamma,\\kappa_\\text{off},\\kappa_\\text{on}]')"
      ]
     },
     "execution_count": 32,
     "metadata": {},
     "output_type": "execute_result"
    }
   ],
   "source": [
    "p = J.charpoly()\n",
    "cfs = p.all_coeffs()\n",
    "p"
   ]
  },
  {
   "cell_type": "code",
   "execution_count": 33,
   "metadata": {},
   "outputs": [
    {
     "data": {
      "text/latex": [
       "$\\displaystyle 1$"
      ],
      "text/plain": [
       "1"
      ]
     },
     "execution_count": 33,
     "metadata": {},
     "output_type": "execute_result"
    }
   ],
   "source": [
    "# Third-order system: all four coefficients must be positive...\n",
    "cfs[0]"
   ]
  },
  {
   "cell_type": "code",
   "execution_count": 34,
   "metadata": {},
   "outputs": [
    {
     "data": {
      "text/latex": [
       "$\\displaystyle R \\kappa_\\text{on} + \\alpha + \\beta \\gamma + \\gamma + \\kappa_\\text{off} + \\kappa_\\text{on} r + 1$"
      ],
      "text/plain": [
       "R*\\kappa_\\text{on} + \\alpha + \\beta*\\gamma + \\gamma + \\kappa_\\text{off} + \\kappa_\\text{on}*r + 1"
      ]
     },
     "execution_count": 34,
     "metadata": {},
     "output_type": "execute_result"
    }
   ],
   "source": [
    "cfs[1]"
   ]
  },
  {
   "cell_type": "code",
   "execution_count": 35,
   "metadata": {},
   "outputs": [
    {
     "data": {
      "text/latex": [
       "$\\displaystyle R \\beta \\gamma \\kappa_\\text{on} + R \\kappa_\\text{on} + \\alpha \\gamma + \\alpha \\kappa_\\text{on} r + \\alpha + \\beta \\gamma^{2} + \\beta \\gamma + \\gamma \\kappa_\\text{off} + \\gamma \\kappa_\\text{on} r + \\gamma + \\kappa_\\text{off}$"
      ],
      "text/plain": [
       "R*\\beta*\\gamma*\\kappa_\\text{on} + R*\\kappa_\\text{on} + \\alpha*\\gamma + \\alpha*\\kappa_\\text{on}*r + \\alpha + \\beta*\\gamma**2 + \\beta*\\gamma + \\gamma*\\kappa_\\text{off} + \\gamma*\\kappa_\\text{on}*r + \\gamma + \\kappa_\\text{off}"
      ]
     },
     "execution_count": 35,
     "metadata": {},
     "output_type": "execute_result"
    }
   ],
   "source": [
    "cfs[2]"
   ]
  },
  {
   "cell_type": "code",
   "execution_count": 36,
   "metadata": {},
   "outputs": [
    {
     "data": {
      "text/latex": [
       "$\\displaystyle R \\beta \\gamma \\kappa_\\text{on} + \\alpha \\gamma \\kappa_\\text{on} r + \\alpha \\gamma + \\beta \\gamma^{2} + \\gamma \\kappa_\\text{off}$"
      ],
      "text/plain": [
       "R*\\beta*\\gamma*\\kappa_\\text{on} + \\alpha*\\gamma*\\kappa_\\text{on}*r + \\alpha*\\gamma + \\beta*\\gamma**2 + \\gamma*\\kappa_\\text{off}"
      ]
     },
     "execution_count": 36,
     "metadata": {},
     "output_type": "execute_result"
    }
   ],
   "source": [
    "cfs[3]"
   ]
  },
  {
   "cell_type": "code",
   "execution_count": 37,
   "metadata": {},
   "outputs": [
    {
     "data": {
      "text/latex": [
       "$\\displaystyle R^{2} \\beta \\gamma \\kappa_\\text{on}^{2} + R^{2} \\kappa_\\text{on}^{2} + R \\alpha \\beta \\gamma \\kappa_\\text{on} + R \\alpha \\gamma \\kappa_\\text{on} + R \\alpha \\kappa_\\text{on}^{2} r + 2 R \\alpha \\kappa_\\text{on} + R \\beta^{2} \\gamma^{2} \\kappa_\\text{on} + 2 R \\beta \\gamma^{2} \\kappa_\\text{on} + R \\beta \\gamma \\kappa_\\text{off} \\kappa_\\text{on} + R \\beta \\gamma \\kappa_\\text{on}^{2} r + 2 R \\beta \\gamma \\kappa_\\text{on} + R \\gamma \\kappa_\\text{off} \\kappa_\\text{on} + R \\gamma \\kappa_\\text{on}^{2} r + 2 R \\gamma \\kappa_\\text{on} + 2 R \\kappa_\\text{off} \\kappa_\\text{on} + R \\kappa_\\text{on}^{2} r + R \\kappa_\\text{on} + \\alpha^{2} \\gamma + \\alpha^{2} \\kappa_\\text{on} r + \\alpha^{2} + 2 \\alpha \\beta \\gamma^{2} + \\alpha \\beta \\gamma \\kappa_\\text{on} r + 2 \\alpha \\beta \\gamma + \\alpha \\gamma^{2} + 2 \\alpha \\gamma \\kappa_\\text{off} + 2 \\alpha \\gamma \\kappa_\\text{on} r + 2 \\alpha \\gamma + \\alpha \\kappa_\\text{off} \\kappa_\\text{on} r + 2 \\alpha \\kappa_\\text{off} + \\alpha \\kappa_\\text{on}^{2} r^{2} + 2 \\alpha \\kappa_\\text{on} r + \\alpha + \\beta^{2} \\gamma^{3} + \\beta^{2} \\gamma^{2} + \\beta \\gamma^{3} + 2 \\beta \\gamma^{2} \\kappa_\\text{off} + 2 \\beta \\gamma^{2} \\kappa_\\text{on} r + 2 \\beta \\gamma^{2} + 2 \\beta \\gamma \\kappa_\\text{off} + \\beta \\gamma \\kappa_\\text{on} r + \\beta \\gamma + \\gamma^{2} \\kappa_\\text{off} + \\gamma^{2} \\kappa_\\text{on} r + \\gamma^{2} + \\gamma \\kappa_\\text{off}^{2} + 2 \\gamma \\kappa_\\text{off} \\kappa_\\text{on} r + 2 \\gamma \\kappa_\\text{off} + \\gamma \\kappa_\\text{on}^{2} r^{2} + 2 \\gamma \\kappa_\\text{on} r + \\gamma + \\kappa_\\text{off}^{2} + \\kappa_\\text{off} \\kappa_\\text{on} r + \\kappa_\\text{off}$"
      ],
      "text/plain": [
       "R**2*\\beta*\\gamma*\\kappa_\\text{on}**2 + R**2*\\kappa_\\text{on}**2 + R*\\alpha*\\beta*\\gamma*\\kappa_\\text{on} + R*\\alpha*\\gamma*\\kappa_\\text{on} + R*\\alpha*\\kappa_\\text{on}**2*r + 2*R*\\alpha*\\kappa_\\text{on} + R*\\beta**2*\\gamma**2*\\kappa_\\text{on} + 2*R*\\beta*\\gamma**2*\\kappa_\\text{on} + R*\\beta*\\gamma*\\kappa_\\text{off}*\\kappa_\\text{on} + R*\\beta*\\gamma*\\kappa_\\text{on}**2*r + 2*R*\\beta*\\gamma*\\kappa_\\text{on} + R*\\gamma*\\kappa_\\text{off}*\\kappa_\\text{on} + R*\\gamma*\\kappa_\\text{on}**2*r + 2*R*\\gamma*\\kappa_\\text{on} + 2*R*\\kappa_\\text{off}*\\kappa_\\text{on} + R*\\kappa_\\text{on}**2*r + R*\\kappa_\\text{on} + \\alpha**2*\\gamma + \\alpha**2*\\kappa_\\text{on}*r + \\alpha**2 + 2*\\alpha*\\beta*\\gamma**2 + \\alpha*\\beta*\\gamma*\\kappa_\\text{on}*r + 2*\\alpha*\\beta*\\gamma + \\alpha*\\gamma**2 + 2*\\alpha*\\gamma*\\kappa_\\text{off} + 2*\\alpha*\\gamma*\\kappa_\\text{on}*r + 2*\\alpha*\\gamma + \\alpha*\\kappa_\\text{off}*\\kappa_\\text{on}*r + 2*\\alpha*\\kappa_\\text{off} + \\alpha*\\kappa_\\text{on}**2*r**2 + 2*\\alpha*\\kappa_\\text{on}*r + \\alpha + \\beta**2*\\gamma**3 + \\beta**2*\\gamma**2 + \\beta*\\gamma**3 + 2*\\beta*\\gamma**2*\\kappa_\\text{off} + 2*\\beta*\\gamma**2*\\kappa_\\text{on}*r + 2*\\beta*\\gamma**2 + 2*\\beta*\\gamma*\\kappa_\\text{off} + \\beta*\\gamma*\\kappa_\\text{on}*r + \\beta*\\gamma + \\gamma**2*\\kappa_\\text{off} + \\gamma**2*\\kappa_\\text{on}*r + \\gamma**2 + \\gamma*\\kappa_\\text{off}**2 + 2*\\gamma*\\kappa_\\text{off}*\\kappa_\\text{on}*r + 2*\\gamma*\\kappa_\\text{off} + \\gamma*\\kappa_\\text{on}**2*r**2 + 2*\\gamma*\\kappa_\\text{on}*r + \\gamma + \\kappa_\\text{off}**2 + \\kappa_\\text{off}*\\kappa_\\text{on}*r + \\kappa_\\text{off}"
      ]
     },
     "execution_count": 37,
     "metadata": {},
     "output_type": "execute_result"
    }
   ],
   "source": [
    "# ...as must Δ2 = a1*a2 - a0*a3\n",
    "u = (cfs[1]*cfs[2] - cfs[0]*cfs[3]).expand().simplify()\n",
    "u"
   ]
  },
  {
   "cell_type": "code",
   "execution_count": 38,
   "metadata": {},
   "outputs": [
    {
     "data": {
      "text/latex": [
       "$\\displaystyle 1$"
      ],
      "text/plain": [
       "1"
      ]
     },
     "execution_count": 38,
     "metadata": {},
     "output_type": "execute_result"
    }
   ],
   "source": [
    "min(Poly(u).coeffs())"
   ]
  },
  {
   "cell_type": "code",
   "execution_count": 39,
   "metadata": {},
   "outputs": [
    {
     "data": {
      "text/plain": [
       "[True, True, True, True, True]"
      ]
     },
     "execution_count": 39,
     "metadata": {},
     "output_type": "execute_result"
    }
   ],
   "source": [
    "[exp.is_positive for exp in [*cfs, u]]"
   ]
  },
  {
   "cell_type": "markdown",
   "metadata": {},
   "source": [
    "**All coefficients and required expressions are positive.**"
   ]
  },
  {
   "cell_type": "code",
   "execution_count": 40,
   "metadata": {},
   "outputs": [
    {
     "data": {
      "image/png": "[encoded data removed]",
      "text/plain": [
       "<Figure size 424.8x216 with 4 Axes>"
      ]
     },
     "metadata": {
      "needs_background": "light"
     },
     "output_type": "display_data"
    }
   ],
   "source": [
    "coefficient_plot([cfs[3], '$a_0$', 1.3, range(3), 12], \n",
    "                 [cfs[2], '$a_1$', 1.3, range(3), 12], \n",
    "                 [cfs[1], '$a_2$', 1.3, range(3), 12],\n",
    "                 [u, '$u$', 2, range(4)])\n",
    "#plt.savefig('rh_mmi1.svg')"
   ]
  },
  {
   "cell_type": "code",
   "execution_count": null,
   "metadata": {},
   "outputs": [],
   "source": []
  },
  {
   "cell_type": "markdown",
   "metadata": {},
   "source": [
    "## MMI2-SSB"
   ]
  },
  {
   "cell_type": "code",
   "execution_count": 41,
   "metadata": {},
   "outputs": [],
   "source": [
    "rhs_R = s - 2*kon*R*r + 2*koff*C1 - R + 2*b1*g*C1\n",
    "rhs_r = 1 - 2*kon*R*r + 2*koff*C1 - 2*kon*C1*r + 2*koff*C2 - g*r + 2*a1*C1 + 2*a2*C2\n",
    "rhs_C1 = kon*R*r - koff*C1 - kon*C1*r + koff*C2 - a1*C1 - b1*g*C1 + b2*g*C2\n",
    "rhs_C2 = 2*kon*C1*r - 2*koff*C2 - a2*C2 - 2*b2*g*C2"
   ]
  },
  {
   "cell_type": "code",
   "execution_count": 42,
   "metadata": {},
   "outputs": [
    {
     "data": {
      "text/latex": [
       "$\\displaystyle 2 C_{1} \\beta_1 \\gamma + 2 C_{1} \\kappa_\\text{off} - 2 R \\kappa_\\text{on} r - R + \\sigma_R$"
      ],
      "text/plain": [
       "2*C_1*\\beta_1*\\gamma + 2*C_1*\\kappa_\\text{off} - 2*R*\\kappa_\\text{on}*r - R + \\sigma_R"
      ]
     },
     "execution_count": 42,
     "metadata": {},
     "output_type": "execute_result"
    }
   ],
   "source": [
    "rhs_R"
   ]
  },
  {
   "cell_type": "code",
   "execution_count": 43,
   "metadata": {},
   "outputs": [
    {
     "data": {
      "text/latex": [
       "$\\displaystyle 2 C_{1} \\alpha_1 + 2 C_{1} \\kappa_\\text{off} - 2 C_{1} \\kappa_\\text{on} r + 2 C_{2} \\alpha_2 + 2 C_{2} \\kappa_\\text{off} - 2 R \\kappa_\\text{on} r - \\gamma r + 1$"
      ],
      "text/plain": [
       "2*C_1*\\alpha_1 + 2*C_1*\\kappa_\\text{off} - 2*C_1*\\kappa_\\text{on}*r + 2*C_2*\\alpha_2 + 2*C_2*\\kappa_\\text{off} - 2*R*\\kappa_\\text{on}*r - \\gamma*r + 1"
      ]
     },
     "execution_count": 43,
     "metadata": {},
     "output_type": "execute_result"
    }
   ],
   "source": [
    "rhs_r"
   ]
  },
  {
   "cell_type": "code",
   "execution_count": 44,
   "metadata": {},
   "outputs": [
    {
     "data": {
      "text/latex": [
       "$\\displaystyle - C_{1} \\alpha_1 - C_{1} \\beta_1 \\gamma - C_{1} \\kappa_\\text{off} - C_{1} \\kappa_\\text{on} r + C_{2} \\beta_2 \\gamma + C_{2} \\kappa_\\text{off} + R \\kappa_\\text{on} r$"
      ],
      "text/plain": [
       "-C_1*\\alpha_1 - C_1*\\beta_1*\\gamma - C_1*\\kappa_\\text{off} - C_1*\\kappa_\\text{on}*r + C_2*\\beta_2*\\gamma + C_2*\\kappa_\\text{off} + R*\\kappa_\\text{on}*r"
      ]
     },
     "execution_count": 44,
     "metadata": {},
     "output_type": "execute_result"
    }
   ],
   "source": [
    "rhs_C1"
   ]
  },
  {
   "cell_type": "code",
   "execution_count": 45,
   "metadata": {},
   "outputs": [
    {
     "data": {
      "text/latex": [
       "$\\displaystyle 2 C_{1} \\kappa_\\text{on} r - C_{2} \\alpha_2 - 2 C_{2} \\beta_2 \\gamma - 2 C_{2} \\kappa_\\text{off}$"
      ],
      "text/plain": [
       "2*C_1*\\kappa_\\text{on}*r - C_2*\\alpha_2 - 2*C_2*\\beta_2*\\gamma - 2*C_2*\\kappa_\\text{off}"
      ]
     },
     "execution_count": 45,
     "metadata": {},
     "output_type": "execute_result"
    }
   ],
   "source": [
    "rhs_C2"
   ]
  },
  {
   "cell_type": "code",
   "execution_count": 46,
   "metadata": {},
   "outputs": [
    {
     "data": {
      "text/latex": [
       "$\\displaystyle \\left[\\begin{matrix}- 2 \\kappa_\\text{on} r - 1 & - 2 R \\kappa_\\text{on} & 2 \\beta_1 \\gamma + 2 \\kappa_\\text{off} & 0\\\\- 2 \\kappa_\\text{on} r & - 2 C_{1} \\kappa_\\text{on} - 2 R \\kappa_\\text{on} - \\gamma & 2 \\alpha_1 + 2 \\kappa_\\text{off} - 2 \\kappa_\\text{on} r & 2 \\alpha_2 + 2 \\kappa_\\text{off}\\\\\\kappa_\\text{on} r & - C_{1} \\kappa_\\text{on} + R \\kappa_\\text{on} & - \\alpha_1 - \\beta_1 \\gamma - \\kappa_\\text{off} - \\kappa_\\text{on} r & \\beta_2 \\gamma + \\kappa_\\text{off}\\\\0 & 2 C_{1} \\kappa_\\text{on} & 2 \\kappa_\\text{on} r & - \\alpha_2 - 2 \\beta_2 \\gamma - 2 \\kappa_\\text{off}\\end{matrix}\\right]$"
      ],
      "text/plain": [
       "Matrix([\n",
       "[-2*\\kappa_\\text{on}*r - 1,                                   -2*R*\\kappa_\\text{on},                              2*\\beta_1*\\gamma + 2*\\kappa_\\text{off},                                                  0],\n",
       "[    -2*\\kappa_\\text{on}*r, -2*C_1*\\kappa_\\text{on} - 2*R*\\kappa_\\text{on} - \\gamma,             2*\\alpha_1 + 2*\\kappa_\\text{off} - 2*\\kappa_\\text{on}*r,                   2*\\alpha_2 + 2*\\kappa_\\text{off}],\n",
       "[       \\kappa_\\text{on}*r,              -C_1*\\kappa_\\text{on} + R*\\kappa_\\text{on}, -\\alpha_1 - \\beta_1*\\gamma - \\kappa_\\text{off} - \\kappa_\\text{on}*r,                 \\beta_2*\\gamma + \\kappa_\\text{off}],\n",
       "[                        0,                                  2*C_1*\\kappa_\\text{on},                                                2*\\kappa_\\text{on}*r, -\\alpha_2 - 2*\\beta_2*\\gamma - 2*\\kappa_\\text{off}]])"
      ]
     },
     "execution_count": 46,
     "metadata": {},
     "output_type": "execute_result"
    }
   ],
   "source": [
    "J = Matrix([rhs_R, rhs_r, rhs_C1, rhs_C2]).jacobian(Matrix([R, r, C1, C2]))\n",
    "J"
   ]
  },
  {
   "cell_type": "code",
   "execution_count": 47,
   "metadata": {},
   "outputs": [
    {
     "data": {
      "text/latex": [
       "$\\displaystyle \\operatorname{PurePoly}{\\left( \\lambda^{4} + \\left(2 C_{1} \\kappa_\\text{on} + 2 R \\kappa_\\text{on} + \\alpha_1 + \\alpha_2 + \\beta_1 \\gamma + 2 \\beta_2 \\gamma + \\gamma + 3 \\kappa_\\text{off} + 3 \\kappa_\\text{on} r + 1\\right) \\lambda^{3} + \\left(4 C_{1} \\alpha_1 \\kappa_\\text{on} - 2 C_{1} \\alpha_2 \\kappa_\\text{on} + 2 C_{1} \\beta_1 \\gamma \\kappa_\\text{on} + 4 C_{1} \\beta_2 \\gamma \\kappa_\\text{on} + 4 C_{1} \\kappa_\\text{off} \\kappa_\\text{on} + 4 C_{1} \\kappa_\\text{on}^{2} r + 2 C_{1} \\kappa_\\text{on} + 2 R \\alpha_2 \\kappa_\\text{on} + 2 R \\beta_1 \\gamma \\kappa_\\text{on} + 4 R \\beta_2 \\gamma \\kappa_\\text{on} + 4 R \\kappa_\\text{off} \\kappa_\\text{on} + 4 R \\kappa_\\text{on}^{2} r + 2 R \\kappa_\\text{on} + \\alpha_1 \\alpha_2 + 2 \\alpha_1 \\beta_2 \\gamma + \\alpha_1 \\gamma + 2 \\alpha_1 \\kappa_\\text{off} + 2 \\alpha_1 \\kappa_\\text{on} r + \\alpha_1 + \\alpha_2 \\beta_1 \\gamma + \\alpha_2 \\gamma + \\alpha_2 \\kappa_\\text{off} + 3 \\alpha_2 \\kappa_\\text{on} r + \\alpha_2 + 2 \\beta_1 \\beta_2 \\gamma^{2} + \\beta_1 \\gamma^{2} + 2 \\beta_1 \\gamma \\kappa_\\text{off} + \\beta_1 \\gamma + 2 \\beta_2 \\gamma^{2} + 2 \\beta_2 \\gamma \\kappa_\\text{off} + 4 \\beta_2 \\gamma \\kappa_\\text{on} r + 2 \\beta_2 \\gamma + 3 \\gamma \\kappa_\\text{off} + 3 \\gamma \\kappa_\\text{on} r + \\gamma + 2 \\kappa_\\text{off}^{2} + 4 \\kappa_\\text{off} \\kappa_\\text{on} r + 3 \\kappa_\\text{off} + 2 \\kappa_\\text{on}^{2} r^{2} + \\kappa_\\text{on} r\\right) \\lambda^{2} + \\left(4 C_{1} \\alpha_1 \\beta_2 \\gamma \\kappa_\\text{on} + 8 C_{1} \\alpha_1 \\kappa_\\text{on}^{2} r + 4 C_{1} \\alpha_1 \\kappa_\\text{on} - 2 C_{1} \\alpha_2 \\beta_1 \\gamma \\kappa_\\text{on} - 4 C_{1} \\alpha_2 \\kappa_\\text{on}^{2} r - 2 C_{1} \\alpha_2 \\kappa_\\text{on} + 4 C_{1} \\beta_1 \\beta_2 \\gamma^{2} \\kappa_\\text{on} - 4 C_{1} \\beta_1 \\gamma \\kappa_\\text{on}^{2} r + 2 C_{1} \\beta_1 \\gamma \\kappa_\\text{on} + 4 C_{1} \\beta_2 \\gamma \\kappa_\\text{off} \\kappa_\\text{on} + 8 C_{1} \\beta_2 \\gamma \\kappa_\\text{on}^{2} r + 4 C_{1} \\beta_2 \\gamma \\kappa_\\text{on} + 4 C_{1} \\kappa_\\text{off} \\kappa_\\text{on} + 2 R \\alpha_2 \\beta_1 \\gamma \\kappa_\\text{on} + 2 R \\alpha_2 \\kappa_\\text{on} + 4 R \\beta_1 \\beta_2 \\gamma^{2} \\kappa_\\text{on} + 4 R \\beta_1 \\gamma \\kappa_\\text{off} \\kappa_\\text{on} + 2 R \\beta_1 \\gamma \\kappa_\\text{on} + 4 R \\beta_2 \\gamma \\kappa_\\text{on}^{2} r + 4 R \\beta_2 \\gamma \\kappa_\\text{on} + 4 R \\kappa_\\text{off} \\kappa_\\text{on} + 4 R \\kappa_\\text{on}^{2} r + \\alpha_1 \\alpha_2 \\gamma + 2 \\alpha_1 \\alpha_2 \\kappa_\\text{on} r + \\alpha_1 \\alpha_2 + 2 \\alpha_1 \\beta_2 \\gamma^{2} + 4 \\alpha_1 \\beta_2 \\gamma \\kappa_\\text{on} r + 2 \\alpha_1 \\beta_2 \\gamma + 2 \\alpha_1 \\gamma \\kappa_\\text{off} + 2 \\alpha_1 \\gamma \\kappa_\\text{on} r + \\alpha_1 \\gamma + 4 \\alpha_1 \\kappa_\\text{off} \\kappa_\\text{on} r + 2 \\alpha_1 \\kappa_\\text{off} + \\alpha_2 \\beta_1 \\gamma^{2} + \\alpha_2 \\beta_1 \\gamma + \\alpha_2 \\gamma \\kappa_\\text{off} + 3 \\alpha_2 \\gamma \\kappa_\\text{on} r + \\alpha_2 \\gamma + \\alpha_2 \\kappa_\\text{off} + 2 \\alpha_2 \\kappa_\\text{on}^{2} r^{2} + \\alpha_2 \\kappa_\\text{on} r + 2 \\beta_1 \\beta_2 \\gamma^{3} + 2 \\beta_1 \\beta_2 \\gamma^{2} + 2 \\beta_1 \\gamma^{2} \\kappa_\\text{off} + \\beta_1 \\gamma^{2} + 2 \\beta_1 \\gamma \\kappa_\\text{off} + 2 \\beta_2 \\gamma^{2} \\kappa_\\text{off} + 4 \\beta_2 \\gamma^{2} \\kappa_\\text{on} r + 2 \\beta_2 \\gamma^{2} + 2 \\beta_2 \\gamma \\kappa_\\text{off} + 2 \\gamma \\kappa_\\text{off}^{2} + 4 \\gamma \\kappa_\\text{off} \\kappa_\\text{on} r + 3 \\gamma \\kappa_\\text{off} + 2 \\gamma \\kappa_\\text{on}^{2} r^{2} + \\gamma \\kappa_\\text{on} r + 2 \\kappa_\\text{off}^{2}\\right) \\lambda + 8 C_{1} \\alpha_1 \\beta_2 \\gamma \\kappa_\\text{on}^{2} r + 4 C_{1} \\alpha_1 \\beta_2 \\gamma \\kappa_\\text{on} - 4 C_{1} \\alpha_2 \\beta_1 \\gamma \\kappa_\\text{on}^{2} r - 2 C_{1} \\alpha_2 \\beta_1 \\gamma \\kappa_\\text{on} + 4 C_{1} \\beta_1 \\beta_2 \\gamma^{2} \\kappa_\\text{on} + 4 C_{1} \\beta_2 \\gamma \\kappa_\\text{off} \\kappa_\\text{on} + 2 R \\alpha_2 \\beta_1 \\gamma \\kappa_\\text{on} + 4 R \\beta_1 \\beta_2 \\gamma^{2} \\kappa_\\text{on} + 4 R \\beta_1 \\gamma \\kappa_\\text{off} \\kappa_\\text{on} + 4 R \\beta_2 \\gamma \\kappa_\\text{on}^{2} r + 2 \\alpha_1 \\alpha_2 \\gamma \\kappa_\\text{on} r + \\alpha_1 \\alpha_2 \\gamma + 4 \\alpha_1 \\beta_2 \\gamma^{2} \\kappa_\\text{on} r + 2 \\alpha_1 \\beta_2 \\gamma^{2} + 4 \\alpha_1 \\gamma \\kappa_\\text{off} \\kappa_\\text{on} r + 2 \\alpha_1 \\gamma \\kappa_\\text{off} + \\alpha_2 \\beta_1 \\gamma^{2} + \\alpha_2 \\gamma \\kappa_\\text{off} + 2 \\alpha_2 \\gamma \\kappa_\\text{on}^{2} r^{2} + \\alpha_2 \\gamma \\kappa_\\text{on} r + 2 \\beta_1 \\beta_2 \\gamma^{3} + 2 \\beta_1 \\gamma^{2} \\kappa_\\text{off} + 2 \\beta_2 \\gamma^{2} \\kappa_\\text{off} + 2 \\gamma \\kappa_\\text{off}^{2}, \\lambda, domain=\\mathbb{Z}\\left[r, C_{1}, R, \\alpha_1, \\alpha_2, \\beta_1, \\beta_2, \\gamma, \\kappa_\\text{off}, \\kappa_\\text{on}\\right] \\right)}$"
      ],
      "text/plain": [
       "PurePoly(lambda**4 + (2*C_1*\\kappa_\\text{on} + 2*R*\\kappa_\\text{on} + \\alpha_1 + \\alpha_2 + \\beta_1*\\gamma + 2*\\beta_2*\\gamma + \\gamma + 3*\\kappa_\\text{off} + 3*\\kappa_\\text{on}*r + 1)*lambda**3 + (4*C_1*\\alpha_1*\\kappa_\\text{on} - 2*C_1*\\alpha_2*\\kappa_\\text{on} + 2*C_1*\\beta_1*\\gamma*\\kappa_\\text{on} + 4*C_1*\\beta_2*\\gamma*\\kappa_\\text{on} + 4*C_1*\\kappa_\\text{off}*\\kappa_\\text{on} + 4*C_1*\\kappa_\\text{on}**2*r + 2*C_1*\\kappa_\\text{on} + 2*R*\\alpha_2*\\kappa_\\text{on} + 2*R*\\beta_1*\\gamma*\\kappa_\\text{on} + 4*R*\\beta_2*\\gamma*\\kappa_\\text{on} + 4*R*\\kappa_\\text{off}*\\kappa_\\text{on} + 4*R*\\kappa_\\text{on}**2*r + 2*R*\\kappa_\\text{on} + \\alpha_1*\\alpha_2 + 2*\\alpha_1*\\beta_2*\\gamma + \\alpha_1*\\gamma + 2*\\alpha_1*\\kappa_\\text{off} + 2*\\alpha_1*\\kappa_\\text{on}*r + \\alpha_1 + \\alpha_2*\\beta_1*\\gamma + \\alpha_2*\\gamma + \\alpha_2*\\kappa_\\text{off} + 3*\\alpha_2*\\kappa_\\text{on}*r + \\alpha_2 + 2*\\beta_1*\\beta_2*\\gamma**2 + \\beta_1*\\gamma**2 + 2*\\beta_1*\\gamma*\\kappa_\\text{off} + \\beta_1*\\gamma + 2*\\beta_2*\\gamma**2 + 2*\\beta_2*\\gamma*\\kappa_\\text{off} + 4*\\beta_2*\\gamma*\\kappa_\\text{on}*r + 2*\\beta_2*\\gamma + 3*\\gamma*\\kappa_\\text{off} + 3*\\gamma*\\kappa_\\text{on}*r + \\gamma + 2*\\kappa_\\text{off}**2 + 4*\\kappa_\\text{off}*\\kappa_\\text{on}*r + 3*\\kappa_\\text{off} + 2*\\kappa_\\text{on}**2*r**2 + \\kappa_\\text{on}*r)*lambda**2 + (4*C_1*\\alpha_1*\\beta_2*\\gamma*\\kappa_\\text{on} + 8*C_1*\\alpha_1*\\kappa_\\text{on}**2*r + 4*C_1*\\alpha_1*\\kappa_\\text{on} - 2*C_1*\\alpha_2*\\beta_1*\\gamma*\\kappa_\\text{on} - 4*C_1*\\alpha_2*\\kappa_\\text{on}**2*r - 2*C_1*\\alpha_2*\\kappa_\\text{on} + 4*C_1*\\beta_1*\\beta_2*\\gamma**2*\\kappa_\\text{on} - 4*C_1*\\beta_1*\\gamma*\\kappa_\\text{on}**2*r + 2*C_1*\\beta_1*\\gamma*\\kappa_\\text{on} + 4*C_1*\\beta_2*\\gamma*\\kappa_\\text{off}*\\kappa_\\text{on} + 8*C_1*\\beta_2*\\gamma*\\kappa_\\text{on}**2*r + 4*C_1*\\beta_2*\\gamma*\\kappa_\\text{on} + 4*C_1*\\kappa_\\text{off}*\\kappa_\\text{on} + 2*R*\\alpha_2*\\beta_1*\\gamma*\\kappa_\\text{on} + 2*R*\\alpha_2*\\kappa_\\text{on} + 4*R*\\beta_1*\\beta_2*\\gamma**2*\\kappa_\\text{on} + 4*R*\\beta_1*\\gamma*\\kappa_\\text{off}*\\kappa_\\text{on} + 2*R*\\beta_1*\\gamma*\\kappa_\\text{on} + 4*R*\\beta_2*\\gamma*\\kappa_\\text{on}**2*r + 4*R*\\beta_2*\\gamma*\\kappa_\\text{on} + 4*R*\\kappa_\\text{off}*\\kappa_\\text{on} + 4*R*\\kappa_\\text{on}**2*r + \\alpha_1*\\alpha_2*\\gamma + 2*\\alpha_1*\\alpha_2*\\kappa_\\text{on}*r + \\alpha_1*\\alpha_2 + 2*\\alpha_1*\\beta_2*\\gamma**2 + 4*\\alpha_1*\\beta_2*\\gamma*\\kappa_\\text{on}*r + 2*\\alpha_1*\\beta_2*\\gamma + 2*\\alpha_1*\\gamma*\\kappa_\\text{off} + 2*\\alpha_1*\\gamma*\\kappa_\\text{on}*r + \\alpha_1*\\gamma + 4*\\alpha_1*\\kappa_\\text{off}*\\kappa_\\text{on}*r + 2*\\alpha_1*\\kappa_\\text{off} + \\alpha_2*\\beta_1*\\gamma**2 + \\alpha_2*\\beta_1*\\gamma + \\alpha_2*\\gamma*\\kappa_\\text{off} + 3*\\alpha_2*\\gamma*\\kappa_\\text{on}*r + \\alpha_2*\\gamma + \\alpha_2*\\kappa_\\text{off} + 2*\\alpha_2*\\kappa_\\text{on}**2*r**2 + \\alpha_2*\\kappa_\\text{on}*r + 2*\\beta_1*\\beta_2*\\gamma**3 + 2*\\beta_1*\\beta_2*\\gamma**2 + 2*\\beta_1*\\gamma**2*\\kappa_\\text{off} + \\beta_1*\\gamma**2 + 2*\\beta_1*\\gamma*\\kappa_\\text{off} + 2*\\beta_2*\\gamma**2*\\kappa_\\text{off} + 4*\\beta_2*\\gamma**2*\\kappa_\\text{on}*r + 2*\\beta_2*\\gamma**2 + 2*\\beta_2*\\gamma*\\kappa_\\text{off} + 2*\\gamma*\\kappa_\\text{off}**2 + 4*\\gamma*\\kappa_\\text{off}*\\kappa_\\text{on}*r + 3*\\gamma*\\kappa_\\text{off} + 2*\\gamma*\\kappa_\\text{on}**2*r**2 + \\gamma*\\kappa_\\text{on}*r + 2*\\kappa_\\text{off}**2)*lambda + 8*C_1*\\alpha_1*\\beta_2*\\gamma*\\kappa_\\text{on}**2*r + 4*C_1*\\alpha_1*\\beta_2*\\gamma*\\kappa_\\text{on} - 4*C_1*\\alpha_2*\\beta_1*\\gamma*\\kappa_\\text{on}**2*r - 2*C_1*\\alpha_2*\\beta_1*\\gamma*\\kappa_\\text{on} + 4*C_1*\\beta_1*\\beta_2*\\gamma**2*\\kappa_\\text{on} + 4*C_1*\\beta_2*\\gamma*\\kappa_\\text{off}*\\kappa_\\text{on} + 2*R*\\alpha_2*\\beta_1*\\gamma*\\kappa_\\text{on} + 4*R*\\beta_1*\\beta_2*\\gamma**2*\\kappa_\\text{on} + 4*R*\\beta_1*\\gamma*\\kappa_\\text{off}*\\kappa_\\text{on} + 4*R*\\beta_2*\\gamma*\\kappa_\\text{on}**2*r + 2*\\alpha_1*\\alpha_2*\\gamma*\\kappa_\\text{on}*r + \\alpha_1*\\alpha_2*\\gamma + 4*\\alpha_1*\\beta_2*\\gamma**2*\\kappa_\\text{on}*r + 2*\\alpha_1*\\beta_2*\\gamma**2 + 4*\\alpha_1*\\gamma*\\kappa_\\text{off}*\\kappa_\\text{on}*r + 2*\\alpha_1*\\gamma*\\kappa_\\text{off} + \\alpha_2*\\beta_1*\\gamma**2 + \\alpha_2*\\gamma*\\kappa_\\text{off} + 2*\\alpha_2*\\gamma*\\kappa_\\text{on}**2*r**2 + \\alpha_2*\\gamma*\\kappa_\\text{on}*r + 2*\\beta_1*\\beta_2*\\gamma**3 + 2*\\beta_1*\\gamma**2*\\kappa_\\text{off} + 2*\\beta_2*\\gamma**2*\\kappa_\\text{off} + 2*\\gamma*\\kappa_\\text{off}**2, lambda, domain='ZZ[r,C_1,R,\\alpha_1,\\alpha_2,\\beta_1,\\beta_2,\\gamma,\\kappa_\\text{off},\\kappa_\\text{on}]')"
      ]
     },
     "execution_count": 47,
     "metadata": {},
     "output_type": "execute_result"
    }
   ],
   "source": [
    "p = J.charpoly()\n",
    "cfs = p.all_coeffs()\n",
    "p"
   ]
  },
  {
   "cell_type": "code",
   "execution_count": 48,
   "metadata": {},
   "outputs": [
    {
     "data": {
      "text/latex": [
       "$\\displaystyle 1$"
      ],
      "text/plain": [
       "1"
      ]
     },
     "execution_count": 48,
     "metadata": {},
     "output_type": "execute_result"
    }
   ],
   "source": [
    "# Fourth-order system: all five coefficients must be positive...\n",
    "cfs[0]"
   ]
  },
  {
   "cell_type": "code",
   "execution_count": 49,
   "metadata": {},
   "outputs": [
    {
     "data": {
      "text/latex": [
       "$\\displaystyle 2 C_{1} \\kappa_\\text{on} + 2 R \\kappa_\\text{on} + \\alpha_1 + \\alpha_2 + \\beta_1 \\gamma + 2 \\beta_2 \\gamma + \\gamma + 3 \\kappa_\\text{off} + 3 \\kappa_\\text{on} r + 1$"
      ],
      "text/plain": [
       "2*C_1*\\kappa_\\text{on} + 2*R*\\kappa_\\text{on} + \\alpha_1 + \\alpha_2 + \\beta_1*\\gamma + 2*\\beta_2*\\gamma + \\gamma + 3*\\kappa_\\text{off} + 3*\\kappa_\\text{on}*r + 1"
      ]
     },
     "execution_count": 49,
     "metadata": {},
     "output_type": "execute_result"
    }
   ],
   "source": [
    "cfs[1]"
   ]
  },
  {
   "cell_type": "code",
   "execution_count": 50,
   "metadata": {},
   "outputs": [
    {
     "data": {
      "text/latex": [
       "$\\displaystyle 4 C_{1} \\kappa_\\text{on}^{2} r + C_{1} \\kappa_\\text{on} \\left(4 \\alpha_1 - 2 \\alpha_2 + 2 \\beta_1 \\gamma + 4 \\beta_2 \\gamma + 4 \\kappa_\\text{off} + 2\\right) + \\alpha_1 \\alpha_2 + 2 \\alpha_1 \\beta_2 \\gamma + \\alpha_1 \\gamma + 2 \\alpha_1 \\kappa_\\text{off} + \\alpha_1 + \\alpha_2 \\beta_1 \\gamma + \\alpha_2 \\gamma + \\alpha_2 \\kappa_\\text{off} + \\alpha_2 + 2 \\beta_1 \\beta_2 \\gamma^{2} + \\beta_1 \\gamma^{2} + 2 \\beta_1 \\gamma \\kappa_\\text{off} + \\beta_1 \\gamma + 2 \\beta_2 \\gamma^{2} + 2 \\beta_2 \\gamma \\kappa_\\text{off} + 2 \\beta_2 \\gamma + 3 \\gamma \\kappa_\\text{off} + \\gamma + 2 \\kappa_\\text{off}^{2} + 3 \\kappa_\\text{off} + \\kappa_\\text{on}^{2} \\left(4 R r + 2 r^{2}\\right) + \\kappa_\\text{on} \\left(2 R \\alpha_2 + 2 R \\beta_1 \\gamma + 4 R \\beta_2 \\gamma + 4 R \\kappa_\\text{off} + 2 R + 2 \\alpha_1 r + 3 \\alpha_2 r + 4 \\beta_2 \\gamma r + 3 \\gamma r + 4 \\kappa_\\text{off} r + r\\right)$"
      ],
      "text/plain": [
       "4*C_1*\\kappa_\\text{on}**2*r + C_1*\\kappa_\\text{on}*(4*\\alpha_1 - 2*\\alpha_2 + 2*\\beta_1*\\gamma + 4*\\beta_2*\\gamma + 4*\\kappa_\\text{off} + 2) + \\alpha_1*\\alpha_2 + 2*\\alpha_1*\\beta_2*\\gamma + \\alpha_1*\\gamma + 2*\\alpha_1*\\kappa_\\text{off} + \\alpha_1 + \\alpha_2*\\beta_1*\\gamma + \\alpha_2*\\gamma + \\alpha_2*\\kappa_\\text{off} + \\alpha_2 + 2*\\beta_1*\\beta_2*\\gamma**2 + \\beta_1*\\gamma**2 + 2*\\beta_1*\\gamma*\\kappa_\\text{off} + \\beta_1*\\gamma + 2*\\beta_2*\\gamma**2 + 2*\\beta_2*\\gamma*\\kappa_\\text{off} + 2*\\beta_2*\\gamma + 3*\\gamma*\\kappa_\\text{off} + \\gamma + 2*\\kappa_\\text{off}**2 + 3*\\kappa_\\text{off} + \\kappa_\\text{on}**2*(4*R*r + 2*r**2) + \\kappa_\\text{on}*(2*R*\\alpha_2 + 2*R*\\beta_1*\\gamma + 4*R*\\beta_2*\\gamma + 4*R*\\kappa_\\text{off} + 2*R + 2*\\alpha_1*r + 3*\\alpha_2*r + 4*\\beta_2*\\gamma*r + 3*\\gamma*r + 4*\\kappa_\\text{off}*r + r)"
      ]
     },
     "execution_count": 50,
     "metadata": {},
     "output_type": "execute_result"
    }
   ],
   "source": [
    "cfs[2].factor(C1, kon)"
   ]
  },
  {
   "cell_type": "code",
   "execution_count": 51,
   "metadata": {},
   "outputs": [
    {
     "data": {
      "text/plain": [
       "[-2]"
      ]
     },
     "execution_count": 51,
     "metadata": {},
     "output_type": "execute_result"
    }
   ],
   "source": [
    "[c for c in Poly(cfs[2]).coeffs() if c < 0] # negative coefficient"
   ]
  },
  {
   "cell_type": "code",
   "execution_count": 52,
   "metadata": {},
   "outputs": [
    {
     "data": {
      "text/latex": [
       "$\\displaystyle C_{1} \\kappa_\\text{on}^{2} \\left(8 \\alpha_1 r - 4 \\alpha_2 r - 4 \\beta_1 \\gamma r + 8 \\beta_2 \\gamma r\\right) + C_{1} \\kappa_\\text{on} \\left(4 \\alpha_1 \\beta_2 \\gamma + 4 \\alpha_1 - 2 \\alpha_2 \\beta_1 \\gamma - 2 \\alpha_2 + 4 \\beta_1 \\beta_2 \\gamma^{2} + 2 \\beta_1 \\gamma + 4 \\beta_2 \\gamma \\kappa_\\text{off} + 4 \\beta_2 \\gamma + 4 \\kappa_\\text{off}\\right) + \\alpha_1 \\alpha_2 \\gamma + \\alpha_1 \\alpha_2 + 2 \\alpha_1 \\beta_2 \\gamma^{2} + 2 \\alpha_1 \\beta_2 \\gamma + 2 \\alpha_1 \\gamma \\kappa_\\text{off} + \\alpha_1 \\gamma + 2 \\alpha_1 \\kappa_\\text{off} + \\alpha_2 \\beta_1 \\gamma^{2} + \\alpha_2 \\beta_1 \\gamma + \\alpha_2 \\gamma \\kappa_\\text{off} + \\alpha_2 \\gamma + \\alpha_2 \\kappa_\\text{off} + 2 \\beta_1 \\beta_2 \\gamma^{3} + 2 \\beta_1 \\beta_2 \\gamma^{2} + 2 \\beta_1 \\gamma^{2} \\kappa_\\text{off} + \\beta_1 \\gamma^{2} + 2 \\beta_1 \\gamma \\kappa_\\text{off} + 2 \\beta_2 \\gamma^{2} \\kappa_\\text{off} + 2 \\beta_2 \\gamma^{2} + 2 \\beta_2 \\gamma \\kappa_\\text{off} + 2 \\gamma \\kappa_\\text{off}^{2} + 3 \\gamma \\kappa_\\text{off} + 2 \\kappa_\\text{off}^{2} + \\kappa_\\text{on}^{2} \\left(4 R \\beta_2 \\gamma r + 4 R r + 2 \\alpha_2 r^{2} + 2 \\gamma r^{2}\\right) + \\kappa_\\text{on} \\left(2 R \\alpha_2 \\beta_1 \\gamma + 2 R \\alpha_2 + 4 R \\beta_1 \\beta_2 \\gamma^{2} + 4 R \\beta_1 \\gamma \\kappa_\\text{off} + 2 R \\beta_1 \\gamma + 4 R \\beta_2 \\gamma + 4 R \\kappa_\\text{off} + 2 \\alpha_1 \\alpha_2 r + 4 \\alpha_1 \\beta_2 \\gamma r + 2 \\alpha_1 \\gamma r + 4 \\alpha_1 \\kappa_\\text{off} r + 3 \\alpha_2 \\gamma r + \\alpha_2 r + 4 \\beta_2 \\gamma^{2} r + 4 \\gamma \\kappa_\\text{off} r + \\gamma r\\right)$"
      ],
      "text/plain": [
       "C_1*\\kappa_\\text{on}**2*(8*\\alpha_1*r - 4*\\alpha_2*r - 4*\\beta_1*\\gamma*r + 8*\\beta_2*\\gamma*r) + C_1*\\kappa_\\text{on}*(4*\\alpha_1*\\beta_2*\\gamma + 4*\\alpha_1 - 2*\\alpha_2*\\beta_1*\\gamma - 2*\\alpha_2 + 4*\\beta_1*\\beta_2*\\gamma**2 + 2*\\beta_1*\\gamma + 4*\\beta_2*\\gamma*\\kappa_\\text{off} + 4*\\beta_2*\\gamma + 4*\\kappa_\\text{off}) + \\alpha_1*\\alpha_2*\\gamma + \\alpha_1*\\alpha_2 + 2*\\alpha_1*\\beta_2*\\gamma**2 + 2*\\alpha_1*\\beta_2*\\gamma + 2*\\alpha_1*\\gamma*\\kappa_\\text{off} + \\alpha_1*\\gamma + 2*\\alpha_1*\\kappa_\\text{off} + \\alpha_2*\\beta_1*\\gamma**2 + \\alpha_2*\\beta_1*\\gamma + \\alpha_2*\\gamma*\\kappa_\\text{off} + \\alpha_2*\\gamma + \\alpha_2*\\kappa_\\text{off} + 2*\\beta_1*\\beta_2*\\gamma**3 + 2*\\beta_1*\\beta_2*\\gamma**2 + 2*\\beta_1*\\gamma**2*\\kappa_\\text{off} + \\beta_1*\\gamma**2 + 2*\\beta_1*\\gamma*\\kappa_\\text{off} + 2*\\beta_2*\\gamma**2*\\kappa_\\text{off} + 2*\\beta_2*\\gamma**2 + 2*\\beta_2*\\gamma*\\kappa_\\text{off} + 2*\\gamma*\\kappa_\\text{off}**2 + 3*\\gamma*\\kappa_\\text{off} + 2*\\kappa_\\text{off}**2 + \\kappa_\\text{on}**2*(4*R*\\beta_2*\\gamma*r + 4*R*r + 2*\\alpha_2*r**2 + 2*\\gamma*r**2) + \\kappa_\\text{on}*(2*R*\\alpha_2*\\beta_1*\\gamma + 2*R*\\alpha_2 + 4*R*\\beta_1*\\beta_2*\\gamma**2 + 4*R*\\beta_1*\\gamma*\\kappa_\\text{off} + 2*R*\\beta_1*\\gamma + 4*R*\\beta_2*\\gamma + 4*R*\\kappa_\\text{off} + 2*\\alpha_1*\\alpha_2*r + 4*\\alpha_1*\\beta_2*\\gamma*r + 2*\\alpha_1*\\gamma*r + 4*\\alpha_1*\\kappa_\\text{off}*r + 3*\\alpha_2*\\gamma*r + \\alpha_2*r + 4*\\beta_2*\\gamma**2*r + 4*\\gamma*\\kappa_\\text{off}*r + \\gamma*r)"
      ]
     },
     "execution_count": 52,
     "metadata": {},
     "output_type": "execute_result"
    }
   ],
   "source": [
    "cfs[3].factor(C1, kon)"
   ]
  },
  {
   "cell_type": "code",
   "execution_count": 53,
   "metadata": {},
   "outputs": [
    {
     "data": {
      "text/plain": [
       "[-4, -4, -2, -2]"
      ]
     },
     "execution_count": 53,
     "metadata": {},
     "output_type": "execute_result"
    }
   ],
   "source": [
    "[c for c in Poly(cfs[3]).coeffs() if c < 0]"
   ]
  },
  {
   "cell_type": "code",
   "execution_count": 54,
   "metadata": {},
   "outputs": [
    {
     "data": {
      "text/latex": [
       "$\\displaystyle 8 C_{1} \\alpha_1 \\beta_2 \\gamma \\kappa_\\text{on}^{2} r + 4 C_{1} \\alpha_1 \\beta_2 \\gamma \\kappa_\\text{on} - 4 C_{1} \\alpha_2 \\beta_1 \\gamma \\kappa_\\text{on}^{2} r - 2 C_{1} \\alpha_2 \\beta_1 \\gamma \\kappa_\\text{on} + 4 C_{1} \\beta_1 \\beta_2 \\gamma^{2} \\kappa_\\text{on} + 4 C_{1} \\beta_2 \\gamma \\kappa_\\text{off} \\kappa_\\text{on} + 2 R \\alpha_2 \\beta_1 \\gamma \\kappa_\\text{on} + 4 R \\beta_1 \\beta_2 \\gamma^{2} \\kappa_\\text{on} + 4 R \\beta_1 \\gamma \\kappa_\\text{off} \\kappa_\\text{on} + 4 R \\beta_2 \\gamma \\kappa_\\text{on}^{2} r + 2 \\alpha_1 \\alpha_2 \\gamma \\kappa_\\text{on} r + \\alpha_1 \\alpha_2 \\gamma + 4 \\alpha_1 \\beta_2 \\gamma^{2} \\kappa_\\text{on} r + 2 \\alpha_1 \\beta_2 \\gamma^{2} + 4 \\alpha_1 \\gamma \\kappa_\\text{off} \\kappa_\\text{on} r + 2 \\alpha_1 \\gamma \\kappa_\\text{off} + \\alpha_2 \\beta_1 \\gamma^{2} + \\alpha_2 \\gamma \\kappa_\\text{off} + 2 \\alpha_2 \\gamma \\kappa_\\text{on}^{2} r^{2} + \\alpha_2 \\gamma \\kappa_\\text{on} r + 2 \\beta_1 \\beta_2 \\gamma^{3} + 2 \\beta_1 \\gamma^{2} \\kappa_\\text{off} + 2 \\beta_2 \\gamma^{2} \\kappa_\\text{off} + 2 \\gamma \\kappa_\\text{off}^{2}$"
      ],
      "text/plain": [
       "8*C_1*\\alpha_1*\\beta_2*\\gamma*\\kappa_\\text{on}**2*r + 4*C_1*\\alpha_1*\\beta_2*\\gamma*\\kappa_\\text{on} - 4*C_1*\\alpha_2*\\beta_1*\\gamma*\\kappa_\\text{on}**2*r - 2*C_1*\\alpha_2*\\beta_1*\\gamma*\\kappa_\\text{on} + 4*C_1*\\beta_1*\\beta_2*\\gamma**2*\\kappa_\\text{on} + 4*C_1*\\beta_2*\\gamma*\\kappa_\\text{off}*\\kappa_\\text{on} + 2*R*\\alpha_2*\\beta_1*\\gamma*\\kappa_\\text{on} + 4*R*\\beta_1*\\beta_2*\\gamma**2*\\kappa_\\text{on} + 4*R*\\beta_1*\\gamma*\\kappa_\\text{off}*\\kappa_\\text{on} + 4*R*\\beta_2*\\gamma*\\kappa_\\text{on}**2*r + 2*\\alpha_1*\\alpha_2*\\gamma*\\kappa_\\text{on}*r + \\alpha_1*\\alpha_2*\\gamma + 4*\\alpha_1*\\beta_2*\\gamma**2*\\kappa_\\text{on}*r + 2*\\alpha_1*\\beta_2*\\gamma**2 + 4*\\alpha_1*\\gamma*\\kappa_\\text{off}*\\kappa_\\text{on}*r + 2*\\alpha_1*\\gamma*\\kappa_\\text{off} + \\alpha_2*\\beta_1*\\gamma**2 + \\alpha_2*\\gamma*\\kappa_\\text{off} + 2*\\alpha_2*\\gamma*\\kappa_\\text{on}**2*r**2 + \\alpha_2*\\gamma*\\kappa_\\text{on}*r + 2*\\beta_1*\\beta_2*\\gamma**3 + 2*\\beta_1*\\gamma**2*\\kappa_\\text{off} + 2*\\beta_2*\\gamma**2*\\kappa_\\text{off} + 2*\\gamma*\\kappa_\\text{off}**2"
      ]
     },
     "execution_count": 54,
     "metadata": {},
     "output_type": "execute_result"
    }
   ],
   "source": [
    "cfs[4]"
   ]
  },
  {
   "cell_type": "code",
   "execution_count": 55,
   "metadata": {},
   "outputs": [
    {
     "data": {
      "text/plain": [
       "[-4, -2]"
      ]
     },
     "execution_count": 55,
     "metadata": {},
     "output_type": "execute_result"
    }
   ],
   "source": [
    "[c for c in Poly(cfs[4]).coeffs() if c < 0]"
   ]
  },
  {
   "cell_type": "code",
   "execution_count": 56,
   "metadata": {},
   "outputs": [
    {
     "data": {
      "text/plain": [
       "[True, True, None, None, None]"
      ]
     },
     "execution_count": 56,
     "metadata": {},
     "output_type": "execute_result"
    }
   ],
   "source": [
    "[cf.is_positive for cf in cfs]"
   ]
  },
  {
   "cell_type": "markdown",
   "metadata": {},
   "source": [
    "**Not all coefficients are always positive - test inconclusive.**"
   ]
  },
  {
   "cell_type": "code",
   "execution_count": 57,
   "metadata": {},
   "outputs": [
    {
     "data": {
      "text/plain": [
       "[(1, 10), (2, 40), (3, 56), (4, 24)]"
      ]
     },
     "execution_count": 57,
     "metadata": {},
     "output_type": "execute_result"
    }
   ],
   "source": [
    "[(i, len(Poly(cf).terms())) for (i, cf) in enumerate(cfs) if isinstance(cf, Add)]"
   ]
  },
  {
   "cell_type": "code",
   "execution_count": null,
   "metadata": {},
   "outputs": [],
   "source": []
  },
  {
   "cell_type": "markdown",
   "metadata": {},
   "source": [
    "## MMI2-ASB"
   ]
  },
  {
   "cell_type": "code",
   "execution_count": 58,
   "metadata": {},
   "outputs": [],
   "source": [
    "rhs_R = s - kon1*R*r + koff1*C1 - R + b1*g*C1\n",
    "rhs_r = 1 - kon1*R*r + koff1*C1 - kon2*C1*r + koff2*C2 - g*r + a1*C1 + 2*a2*C2\n",
    "rhs_C1 = kon1*R*r - koff1*C1 - kon2*C1*r + koff2*C2 - a1*C1 - b1*g*C1 + b2*g*C2\n",
    "rhs_C2 = kon2*C1*r - koff2*C2 - a2*C2 - b2*g*C2"
   ]
  },
  {
   "cell_type": "code",
   "execution_count": 59,
   "metadata": {},
   "outputs": [
    {
     "data": {
      "text/latex": [
       "$\\displaystyle C_{1} \\beta_1 \\gamma + C_{1} \\kappa_1^\\text{off} - R \\kappa_1^\\text{on} r - R + \\sigma_R$"
      ],
      "text/plain": [
       "C_1*\\beta_1*\\gamma + C_1*\\kappa_1^\\text{off} - R*\\kappa_1^\\text{on}*r - R + \\sigma_R"
      ]
     },
     "execution_count": 59,
     "metadata": {},
     "output_type": "execute_result"
    }
   ],
   "source": [
    "rhs_R"
   ]
  },
  {
   "cell_type": "code",
   "execution_count": 60,
   "metadata": {},
   "outputs": [
    {
     "data": {
      "text/latex": [
       "$\\displaystyle C_{1} \\alpha_1 + C_{1} \\kappa_1^\\text{off} - C_{1} \\kappa_2^\\text{on} r + 2 C_{2} \\alpha_2 + C_{2} \\kappa_2^\\text{off} - R \\kappa_1^\\text{on} r - \\gamma r + 1$"
      ],
      "text/plain": [
       "C_1*\\alpha_1 + C_1*\\kappa_1^\\text{off} - C_1*\\kappa_2^\\text{on}*r + 2*C_2*\\alpha_2 + C_2*\\kappa_2^\\text{off} - R*\\kappa_1^\\text{on}*r - \\gamma*r + 1"
      ]
     },
     "execution_count": 60,
     "metadata": {},
     "output_type": "execute_result"
    }
   ],
   "source": [
    "rhs_r"
   ]
  },
  {
   "cell_type": "code",
   "execution_count": 61,
   "metadata": {},
   "outputs": [
    {
     "data": {
      "text/latex": [
       "$\\displaystyle - C_{1} \\alpha_1 - C_{1} \\beta_1 \\gamma - C_{1} \\kappa_1^\\text{off} - C_{1} \\kappa_2^\\text{on} r + C_{2} \\beta_2 \\gamma + C_{2} \\kappa_2^\\text{off} + R \\kappa_1^\\text{on} r$"
      ],
      "text/plain": [
       "-C_1*\\alpha_1 - C_1*\\beta_1*\\gamma - C_1*\\kappa_1^\\text{off} - C_1*\\kappa_2^\\text{on}*r + C_2*\\beta_2*\\gamma + C_2*\\kappa_2^\\text{off} + R*\\kappa_1^\\text{on}*r"
      ]
     },
     "execution_count": 61,
     "metadata": {},
     "output_type": "execute_result"
    }
   ],
   "source": [
    "rhs_C1"
   ]
  },
  {
   "cell_type": "code",
   "execution_count": 62,
   "metadata": {},
   "outputs": [
    {
     "data": {
      "text/latex": [
       "$\\displaystyle C_{1} \\kappa_2^\\text{on} r - C_{2} \\alpha_2 - C_{2} \\beta_2 \\gamma - C_{2} \\kappa_2^\\text{off}$"
      ],
      "text/plain": [
       "C_1*\\kappa_2^\\text{on}*r - C_2*\\alpha_2 - C_2*\\beta_2*\\gamma - C_2*\\kappa_2^\\text{off}"
      ]
     },
     "execution_count": 62,
     "metadata": {},
     "output_type": "execute_result"
    }
   ],
   "source": [
    "rhs_C2"
   ]
  },
  {
   "cell_type": "code",
   "execution_count": 63,
   "metadata": {},
   "outputs": [
    {
     "data": {
      "text/latex": [
       "$\\displaystyle \\left[\\begin{matrix}- \\kappa_1^\\text{on} r - 1 & - R \\kappa_1^\\text{on} & \\beta_1 \\gamma + \\kappa_1^\\text{off} & 0\\\\- \\kappa_1^\\text{on} r & - C_{1} \\kappa_2^\\text{on} - R \\kappa_1^\\text{on} - \\gamma & \\alpha_1 + \\kappa_1^\\text{off} - \\kappa_2^\\text{on} r & 2 \\alpha_2 + \\kappa_2^\\text{off}\\\\\\kappa_1^\\text{on} r & - C_{1} \\kappa_2^\\text{on} + R \\kappa_1^\\text{on} & - \\alpha_1 - \\beta_1 \\gamma - \\kappa_1^\\text{off} - \\kappa_2^\\text{on} r & \\beta_2 \\gamma + \\kappa_2^\\text{off}\\\\0 & C_{1} \\kappa_2^\\text{on} & \\kappa_2^\\text{on} r & - \\alpha_2 - \\beta_2 \\gamma - \\kappa_2^\\text{off}\\end{matrix}\\right]$"
      ],
      "text/plain": [
       "Matrix([\n",
       "[-\\kappa_1^\\text{on}*r - 1,                                   -R*\\kappa_1^\\text{on},                                    \\beta_1*\\gamma + \\kappa_1^\\text{off},                                                0],\n",
       "[    -\\kappa_1^\\text{on}*r, -C_1*\\kappa_2^\\text{on} - R*\\kappa_1^\\text{on} - \\gamma,                   \\alpha_1 + \\kappa_1^\\text{off} - \\kappa_2^\\text{on}*r,                 2*\\alpha_2 + \\kappa_2^\\text{off}],\n",
       "[     \\kappa_1^\\text{on}*r,          -C_1*\\kappa_2^\\text{on} + R*\\kappa_1^\\text{on}, -\\alpha_1 - \\beta_1*\\gamma - \\kappa_1^\\text{off} - \\kappa_2^\\text{on}*r,             \\beta_2*\\gamma + \\kappa_2^\\text{off}],\n",
       "[                        0,                                  C_1*\\kappa_2^\\text{on},                                                    \\kappa_2^\\text{on}*r, -\\alpha_2 - \\beta_2*\\gamma - \\kappa_2^\\text{off}]])"
      ]
     },
     "execution_count": 63,
     "metadata": {},
     "output_type": "execute_result"
    }
   ],
   "source": [
    "J = Matrix([rhs_R, rhs_r, rhs_C1, rhs_C2]).jacobian(Matrix([R, r, C1, C2]))\n",
    "J"
   ]
  },
  {
   "cell_type": "code",
   "execution_count": 64,
   "metadata": {},
   "outputs": [
    {
     "data": {
      "text/latex": [
       "$\\displaystyle \\operatorname{PurePoly}{\\left( \\lambda^{4} + \\left(C_{1} \\kappa_2^\\text{on} + R \\kappa_1^\\text{on} + \\alpha_1 + \\alpha_2 + \\beta_1 \\gamma + \\beta_2 \\gamma + \\gamma + \\kappa_1^\\text{off} + \\kappa_1^\\text{on} r + \\kappa_2^\\text{off} + \\kappa_2^\\text{on} r + 1\\right) \\lambda^{3} + \\left(2 C_{1} \\alpha_1 \\kappa_2^\\text{on} - C_{1} \\alpha_2 \\kappa_2^\\text{on} + C_{1} \\beta_1 \\gamma \\kappa_2^\\text{on} + C_{1} \\beta_2 \\gamma \\kappa_2^\\text{on} + 2 C_{1} \\kappa_1^\\text{off} \\kappa_2^\\text{on} + C_{1} \\kappa_1^\\text{on} \\kappa_2^\\text{on} r + C_{1} \\kappa_2^\\text{on} + R \\alpha_2 \\kappa_1^\\text{on} + R \\beta_1 \\gamma \\kappa_1^\\text{on} + R \\beta_2 \\gamma \\kappa_1^\\text{on} + R \\kappa_1^\\text{on} \\kappa_2^\\text{off} + 2 R \\kappa_1^\\text{on} \\kappa_2^\\text{on} r + R \\kappa_1^\\text{on} + \\alpha_1 \\alpha_2 + \\alpha_1 \\beta_2 \\gamma + \\alpha_1 \\gamma + \\alpha_1 \\kappa_1^\\text{on} r + \\alpha_1 \\kappa_2^\\text{off} + \\alpha_1 + \\alpha_2 \\beta_1 \\gamma + \\alpha_2 \\gamma + \\alpha_2 \\kappa_1^\\text{off} + \\alpha_2 \\kappa_1^\\text{on} r + \\alpha_2 \\kappa_2^\\text{on} r + \\alpha_2 + \\beta_1 \\beta_2 \\gamma^{2} + \\beta_1 \\gamma^{2} + \\beta_1 \\gamma \\kappa_2^\\text{off} + \\beta_1 \\gamma + \\beta_2 \\gamma^{2} + \\beta_2 \\gamma \\kappa_1^\\text{off} + \\beta_2 \\gamma \\kappa_1^\\text{on} r + \\beta_2 \\gamma + \\gamma \\kappa_1^\\text{off} + \\gamma \\kappa_1^\\text{on} r + \\gamma \\kappa_2^\\text{off} + \\gamma \\kappa_2^\\text{on} r + \\gamma + \\kappa_1^\\text{off} \\kappa_2^\\text{off} + \\kappa_1^\\text{off} + \\kappa_1^\\text{on} \\kappa_2^\\text{off} r + \\kappa_1^\\text{on} \\kappa_2^\\text{on} r^{2} + \\kappa_2^\\text{off} + \\kappa_2^\\text{on} r\\right) \\lambda^{2} + \\left(C_{1} \\alpha_1 \\beta_2 \\gamma \\kappa_2^\\text{on} + 2 C_{1} \\alpha_1 \\kappa_1^\\text{on} \\kappa_2^\\text{on} r + 2 C_{1} \\alpha_1 \\kappa_2^\\text{on} - C_{1} \\alpha_2 \\beta_1 \\gamma \\kappa_2^\\text{on} - C_{1} \\alpha_2 \\kappa_1^\\text{on} \\kappa_2^\\text{on} r - C_{1} \\alpha_2 \\kappa_2^\\text{on} + C_{1} \\beta_1 \\beta_2 \\gamma^{2} \\kappa_2^\\text{on} - C_{1} \\beta_1 \\gamma \\kappa_1^\\text{on} \\kappa_2^\\text{on} r + C_{1} \\beta_1 \\gamma \\kappa_2^\\text{on} + C_{1} \\beta_2 \\gamma \\kappa_1^\\text{off} \\kappa_2^\\text{on} + C_{1} \\beta_2 \\gamma \\kappa_1^\\text{on} \\kappa_2^\\text{on} r + C_{1} \\beta_2 \\gamma \\kappa_2^\\text{on} + 2 C_{1} \\kappa_1^\\text{off} \\kappa_2^\\text{on} + R \\alpha_2 \\beta_1 \\gamma \\kappa_1^\\text{on} + R \\alpha_2 \\kappa_1^\\text{on} + R \\beta_1 \\beta_2 \\gamma^{2} \\kappa_1^\\text{on} + R \\beta_1 \\gamma \\kappa_1^\\text{on} \\kappa_2^\\text{off} + R \\beta_1 \\gamma \\kappa_1^\\text{on} + R \\beta_2 \\gamma \\kappa_1^\\text{on} \\kappa_2^\\text{on} r + R \\beta_2 \\gamma \\kappa_1^\\text{on} + R \\kappa_1^\\text{on} \\kappa_2^\\text{off} + 2 R \\kappa_1^\\text{on} \\kappa_2^\\text{on} r + \\alpha_1 \\alpha_2 \\gamma + \\alpha_1 \\alpha_2 \\kappa_1^\\text{on} r + \\alpha_1 \\alpha_2 + \\alpha_1 \\beta_2 \\gamma^{2} + \\alpha_1 \\beta_2 \\gamma \\kappa_1^\\text{on} r + \\alpha_1 \\beta_2 \\gamma + \\alpha_1 \\gamma \\kappa_1^\\text{on} r + \\alpha_1 \\gamma \\kappa_2^\\text{off} + \\alpha_1 \\gamma + \\alpha_1 \\kappa_1^\\text{on} \\kappa_2^\\text{off} r + \\alpha_1 \\kappa_2^\\text{off} + \\alpha_2 \\beta_1 \\gamma^{2} + \\alpha_2 \\beta_1 \\gamma + \\alpha_2 \\gamma \\kappa_1^\\text{off} + \\alpha_2 \\gamma \\kappa_1^\\text{on} r + \\alpha_2 \\gamma \\kappa_2^\\text{on} r + \\alpha_2 \\gamma + \\alpha_2 \\kappa_1^\\text{off} + \\alpha_2 \\kappa_1^\\text{on} \\kappa_2^\\text{on} r^{2} + \\alpha_2 \\kappa_2^\\text{on} r + \\beta_1 \\beta_2 \\gamma^{3} + \\beta_1 \\beta_2 \\gamma^{2} + \\beta_1 \\gamma^{2} \\kappa_2^\\text{off} + \\beta_1 \\gamma^{2} + \\beta_1 \\gamma \\kappa_2^\\text{off} + \\beta_2 \\gamma^{2} \\kappa_1^\\text{off} + \\beta_2 \\gamma^{2} \\kappa_1^\\text{on} r + \\beta_2 \\gamma^{2} + \\beta_2 \\gamma \\kappa_1^\\text{off} + \\gamma \\kappa_1^\\text{off} \\kappa_2^\\text{off} + \\gamma \\kappa_1^\\text{off} + \\gamma \\kappa_1^\\text{on} \\kappa_2^\\text{off} r + \\gamma \\kappa_1^\\text{on} \\kappa_2^\\text{on} r^{2} + \\gamma \\kappa_2^\\text{off} + \\gamma \\kappa_2^\\text{on} r + \\kappa_1^\\text{off} \\kappa_2^\\text{off}\\right) \\lambda + C_{1} \\alpha_1 \\beta_2 \\gamma \\kappa_1^\\text{on} \\kappa_2^\\text{on} r + C_{1} \\alpha_1 \\beta_2 \\gamma \\kappa_2^\\text{on} - C_{1} \\alpha_2 \\beta_1 \\gamma \\kappa_1^\\text{on} \\kappa_2^\\text{on} r - C_{1} \\alpha_2 \\beta_1 \\gamma \\kappa_2^\\text{on} + C_{1} \\beta_1 \\beta_2 \\gamma^{2} \\kappa_2^\\text{on} + C_{1} \\beta_2 \\gamma \\kappa_1^\\text{off} \\kappa_2^\\text{on} + R \\alpha_2 \\beta_1 \\gamma \\kappa_1^\\text{on} + R \\beta_1 \\beta_2 \\gamma^{2} \\kappa_1^\\text{on} + R \\beta_1 \\gamma \\kappa_1^\\text{on} \\kappa_2^\\text{off} + R \\beta_2 \\gamma \\kappa_1^\\text{on} \\kappa_2^\\text{on} r + \\alpha_1 \\alpha_2 \\gamma \\kappa_1^\\text{on} r + \\alpha_1 \\alpha_2 \\gamma + \\alpha_1 \\beta_2 \\gamma^{2} \\kappa_1^\\text{on} r + \\alpha_1 \\beta_2 \\gamma^{2} + \\alpha_1 \\gamma \\kappa_1^\\text{on} \\kappa_2^\\text{off} r + \\alpha_1 \\gamma \\kappa_2^\\text{off} + \\alpha_2 \\beta_1 \\gamma^{2} + \\alpha_2 \\gamma \\kappa_1^\\text{off} + \\alpha_2 \\gamma \\kappa_1^\\text{on} \\kappa_2^\\text{on} r^{2} + \\alpha_2 \\gamma \\kappa_2^\\text{on} r + \\beta_1 \\beta_2 \\gamma^{3} + \\beta_1 \\gamma^{2} \\kappa_2^\\text{off} + \\beta_2 \\gamma^{2} \\kappa_1^\\text{off} + \\gamma \\kappa_1^\\text{off} \\kappa_2^\\text{off}, \\lambda, domain=\\mathbb{Z}\\left[r, C_{1}, R, \\alpha_1, \\alpha_2, \\beta_1, \\beta_2, \\gamma, \\kappa_1^\\text{off}, \\kappa_1^\\text{on}, \\kappa_2^\\text{off}, \\kappa_2^\\text{on}\\right] \\right)}$"
      ],
      "text/plain": [
       "PurePoly(lambda**4 + (C_1*\\kappa_2^\\text{on} + R*\\kappa_1^\\text{on} + \\alpha_1 + \\alpha_2 + \\beta_1*\\gamma + \\beta_2*\\gamma + \\gamma + \\kappa_1^\\text{off} + \\kappa_1^\\text{on}*r + \\kappa_2^\\text{off} + \\kappa_2^\\text{on}*r + 1)*lambda**3 + (2*C_1*\\alpha_1*\\kappa_2^\\text{on} - C_1*\\alpha_2*\\kappa_2^\\text{on} + C_1*\\beta_1*\\gamma*\\kappa_2^\\text{on} + C_1*\\beta_2*\\gamma*\\kappa_2^\\text{on} + 2*C_1*\\kappa_1^\\text{off}*\\kappa_2^\\text{on} + C_1*\\kappa_1^\\text{on}*\\kappa_2^\\text{on}*r + C_1*\\kappa_2^\\text{on} + R*\\alpha_2*\\kappa_1^\\text{on} + R*\\beta_1*\\gamma*\\kappa_1^\\text{on} + R*\\beta_2*\\gamma*\\kappa_1^\\text{on} + R*\\kappa_1^\\text{on}*\\kappa_2^\\text{off} + 2*R*\\kappa_1^\\text{on}*\\kappa_2^\\text{on}*r + R*\\kappa_1^\\text{on} + \\alpha_1*\\alpha_2 + \\alpha_1*\\beta_2*\\gamma + \\alpha_1*\\gamma + \\alpha_1*\\kappa_1^\\text{on}*r + \\alpha_1*\\kappa_2^\\text{off} + \\alpha_1 + \\alpha_2*\\beta_1*\\gamma + \\alpha_2*\\gamma + \\alpha_2*\\kappa_1^\\text{off} + \\alpha_2*\\kappa_1^\\text{on}*r + \\alpha_2*\\kappa_2^\\text{on}*r + \\alpha_2 + \\beta_1*\\beta_2*\\gamma**2 + \\beta_1*\\gamma**2 + \\beta_1*\\gamma*\\kappa_2^\\text{off} + \\beta_1*\\gamma + \\beta_2*\\gamma**2 + \\beta_2*\\gamma*\\kappa_1^\\text{off} + \\beta_2*\\gamma*\\kappa_1^\\text{on}*r + \\beta_2*\\gamma + \\gamma*\\kappa_1^\\text{off} + \\gamma*\\kappa_1^\\text{on}*r + \\gamma*\\kappa_2^\\text{off} + \\gamma*\\kappa_2^\\text{on}*r + \\gamma + \\kappa_1^\\text{off}*\\kappa_2^\\text{off} + \\kappa_1^\\text{off} + \\kappa_1^\\text{on}*\\kappa_2^\\text{off}*r + \\kappa_1^\\text{on}*\\kappa_2^\\text{on}*r**2 + \\kappa_2^\\text{off} + \\kappa_2^\\text{on}*r)*lambda**2 + (C_1*\\alpha_1*\\beta_2*\\gamma*\\kappa_2^\\text{on} + 2*C_1*\\alpha_1*\\kappa_1^\\text{on}*\\kappa_2^\\text{on}*r + 2*C_1*\\alpha_1*\\kappa_2^\\text{on} - C_1*\\alpha_2*\\beta_1*\\gamma*\\kappa_2^\\text{on} - C_1*\\alpha_2*\\kappa_1^\\text{on}*\\kappa_2^\\text{on}*r - C_1*\\alpha_2*\\kappa_2^\\text{on} + C_1*\\beta_1*\\beta_2*\\gamma**2*\\kappa_2^\\text{on} - C_1*\\beta_1*\\gamma*\\kappa_1^\\text{on}*\\kappa_2^\\text{on}*r + C_1*\\beta_1*\\gamma*\\kappa_2^\\text{on} + C_1*\\beta_2*\\gamma*\\kappa_1^\\text{off}*\\kappa_2^\\text{on} + C_1*\\beta_2*\\gamma*\\kappa_1^\\text{on}*\\kappa_2^\\text{on}*r + C_1*\\beta_2*\\gamma*\\kappa_2^\\text{on} + 2*C_1*\\kappa_1^\\text{off}*\\kappa_2^\\text{on} + R*\\alpha_2*\\beta_1*\\gamma*\\kappa_1^\\text{on} + R*\\alpha_2*\\kappa_1^\\text{on} + R*\\beta_1*\\beta_2*\\gamma**2*\\kappa_1^\\text{on} + R*\\beta_1*\\gamma*\\kappa_1^\\text{on}*\\kappa_2^\\text{off} + R*\\beta_1*\\gamma*\\kappa_1^\\text{on} + R*\\beta_2*\\gamma*\\kappa_1^\\text{on}*\\kappa_2^\\text{on}*r + R*\\beta_2*\\gamma*\\kappa_1^\\text{on} + R*\\kappa_1^\\text{on}*\\kappa_2^\\text{off} + 2*R*\\kappa_1^\\text{on}*\\kappa_2^\\text{on}*r + \\alpha_1*\\alpha_2*\\gamma + \\alpha_1*\\alpha_2*\\kappa_1^\\text{on}*r + \\alpha_1*\\alpha_2 + \\alpha_1*\\beta_2*\\gamma**2 + \\alpha_1*\\beta_2*\\gamma*\\kappa_1^\\text{on}*r + \\alpha_1*\\beta_2*\\gamma + \\alpha_1*\\gamma*\\kappa_1^\\text{on}*r + \\alpha_1*\\gamma*\\kappa_2^\\text{off} + \\alpha_1*\\gamma + \\alpha_1*\\kappa_1^\\text{on}*\\kappa_2^\\text{off}*r + \\alpha_1*\\kappa_2^\\text{off} + \\alpha_2*\\beta_1*\\gamma**2 + \\alpha_2*\\beta_1*\\gamma + \\alpha_2*\\gamma*\\kappa_1^\\text{off} + \\alpha_2*\\gamma*\\kappa_1^\\text{on}*r + \\alpha_2*\\gamma*\\kappa_2^\\text{on}*r + \\alpha_2*\\gamma + \\alpha_2*\\kappa_1^\\text{off} + \\alpha_2*\\kappa_1^\\text{on}*\\kappa_2^\\text{on}*r**2 + \\alpha_2*\\kappa_2^\\text{on}*r + \\beta_1*\\beta_2*\\gamma**3 + \\beta_1*\\beta_2*\\gamma**2 + \\beta_1*\\gamma**2*\\kappa_2^\\text{off} + \\beta_1*\\gamma**2 + \\beta_1*\\gamma*\\kappa_2^\\text{off} + \\beta_2*\\gamma**2*\\kappa_1^\\text{off} + \\beta_2*\\gamma**2*\\kappa_1^\\text{on}*r + \\beta_2*\\gamma**2 + \\beta_2*\\gamma*\\kappa_1^\\text{off} + \\gamma*\\kappa_1^\\text{off}*\\kappa_2^\\text{off} + \\gamma*\\kappa_1^\\text{off} + \\gamma*\\kappa_1^\\text{on}*\\kappa_2^\\text{off}*r + \\gamma*\\kappa_1^\\text{on}*\\kappa_2^\\text{on}*r**2 + \\gamma*\\kappa_2^\\text{off} + \\gamma*\\kappa_2^\\text{on}*r + \\kappa_1^\\text{off}*\\kappa_2^\\text{off})*lambda + C_1*\\alpha_1*\\beta_2*\\gamma*\\kappa_1^\\text{on}*\\kappa_2^\\text{on}*r + C_1*\\alpha_1*\\beta_2*\\gamma*\\kappa_2^\\text{on} - C_1*\\alpha_2*\\beta_1*\\gamma*\\kappa_1^\\text{on}*\\kappa_2^\\text{on}*r - C_1*\\alpha_2*\\beta_1*\\gamma*\\kappa_2^\\text{on} + C_1*\\beta_1*\\beta_2*\\gamma**2*\\kappa_2^\\text{on} + C_1*\\beta_2*\\gamma*\\kappa_1^\\text{off}*\\kappa_2^\\text{on} + R*\\alpha_2*\\beta_1*\\gamma*\\kappa_1^\\text{on} + R*\\beta_1*\\beta_2*\\gamma**2*\\kappa_1^\\text{on} + R*\\beta_1*\\gamma*\\kappa_1^\\text{on}*\\kappa_2^\\text{off} + R*\\beta_2*\\gamma*\\kappa_1^\\text{on}*\\kappa_2^\\text{on}*r + \\alpha_1*\\alpha_2*\\gamma*\\kappa_1^\\text{on}*r + \\alpha_1*\\alpha_2*\\gamma + \\alpha_1*\\beta_2*\\gamma**2*\\kappa_1^\\text{on}*r + \\alpha_1*\\beta_2*\\gamma**2 + \\alpha_1*\\gamma*\\kappa_1^\\text{on}*\\kappa_2^\\text{off}*r + \\alpha_1*\\gamma*\\kappa_2^\\text{off} + \\alpha_2*\\beta_1*\\gamma**2 + \\alpha_2*\\gamma*\\kappa_1^\\text{off} + \\alpha_2*\\gamma*\\kappa_1^\\text{on}*\\kappa_2^\\text{on}*r**2 + \\alpha_2*\\gamma*\\kappa_2^\\text{on}*r + \\beta_1*\\beta_2*\\gamma**3 + \\beta_1*\\gamma**2*\\kappa_2^\\text{off} + \\beta_2*\\gamma**2*\\kappa_1^\\text{off} + \\gamma*\\kappa_1^\\text{off}*\\kappa_2^\\text{off}, lambda, domain='ZZ[r,C_1,R,\\alpha_1,\\alpha_2,\\beta_1,\\beta_2,\\gamma,\\kappa_1^\\text{off},\\kappa_1^\\text{on},\\kappa_2^\\text{off},\\kappa_2^\\text{on}]')"
      ]
     },
     "execution_count": 64,
     "metadata": {},
     "output_type": "execute_result"
    }
   ],
   "source": [
    "p = J.charpoly()\n",
    "cfs = p.all_coeffs()\n",
    "p"
   ]
  },
  {
   "cell_type": "code",
   "execution_count": 65,
   "metadata": {},
   "outputs": [
    {
     "data": {
      "text/latex": [
       "$\\displaystyle 1$"
      ],
      "text/plain": [
       "1"
      ]
     },
     "execution_count": 65,
     "metadata": {},
     "output_type": "execute_result"
    }
   ],
   "source": [
    "# Fourth-order system: all five coefficients must be positive...\n",
    "cfs[0]"
   ]
  },
  {
   "cell_type": "code",
   "execution_count": 66,
   "metadata": {},
   "outputs": [
    {
     "data": {
      "text/latex": [
       "$\\displaystyle C_{1} \\kappa_2^\\text{on} + R \\kappa_1^\\text{on} + \\alpha_1 + \\alpha_2 + \\beta_1 \\gamma + \\beta_2 \\gamma + \\gamma + \\kappa_1^\\text{off} + \\kappa_1^\\text{on} r + \\kappa_2^\\text{off} + \\kappa_2^\\text{on} r + 1$"
      ],
      "text/plain": [
       "C_1*\\kappa_2^\\text{on} + R*\\kappa_1^\\text{on} + \\alpha_1 + \\alpha_2 + \\beta_1*\\gamma + \\beta_2*\\gamma + \\gamma + \\kappa_1^\\text{off} + \\kappa_1^\\text{on}*r + \\kappa_2^\\text{off} + \\kappa_2^\\text{on}*r + 1"
      ]
     },
     "execution_count": 66,
     "metadata": {},
     "output_type": "execute_result"
    }
   ],
   "source": [
    "cfs[1]"
   ]
  },
  {
   "cell_type": "code",
   "execution_count": 67,
   "metadata": {},
   "outputs": [
    {
     "data": {
      "text/latex": [
       "$\\displaystyle 2 C_{1} \\alpha_1 \\kappa_2^\\text{on} - C_{1} \\alpha_2 \\kappa_2^\\text{on} + C_{1} \\beta_1 \\gamma \\kappa_2^\\text{on} + C_{1} \\beta_2 \\gamma \\kappa_2^\\text{on} + 2 C_{1} \\kappa_1^\\text{off} \\kappa_2^\\text{on} + C_{1} \\kappa_1^\\text{on} \\kappa_2^\\text{on} r + C_{1} \\kappa_2^\\text{on} + R \\alpha_2 \\kappa_1^\\text{on} + R \\beta_1 \\gamma \\kappa_1^\\text{on} + R \\beta_2 \\gamma \\kappa_1^\\text{on} + R \\kappa_1^\\text{on} \\kappa_2^\\text{off} + 2 R \\kappa_1^\\text{on} \\kappa_2^\\text{on} r + R \\kappa_1^\\text{on} + \\alpha_1 \\alpha_2 + \\alpha_1 \\beta_2 \\gamma + \\alpha_1 \\gamma + \\alpha_1 \\kappa_1^\\text{on} r + \\alpha_1 \\kappa_2^\\text{off} + \\alpha_1 + \\alpha_2 \\beta_1 \\gamma + \\alpha_2 \\gamma + \\alpha_2 \\kappa_1^\\text{off} + \\alpha_2 \\kappa_1^\\text{on} r + \\alpha_2 \\kappa_2^\\text{on} r + \\alpha_2 + \\beta_1 \\beta_2 \\gamma^{2} + \\beta_1 \\gamma^{2} + \\beta_1 \\gamma \\kappa_2^\\text{off} + \\beta_1 \\gamma + \\beta_2 \\gamma^{2} + \\beta_2 \\gamma \\kappa_1^\\text{off} + \\beta_2 \\gamma \\kappa_1^\\text{on} r + \\beta_2 \\gamma + \\gamma \\kappa_1^\\text{off} + \\gamma \\kappa_1^\\text{on} r + \\gamma \\kappa_2^\\text{off} + \\gamma \\kappa_2^\\text{on} r + \\gamma + \\kappa_1^\\text{off} \\kappa_2^\\text{off} + \\kappa_1^\\text{off} + \\kappa_1^\\text{on} \\kappa_2^\\text{off} r + \\kappa_1^\\text{on} \\kappa_2^\\text{on} r^{2} + \\kappa_2^\\text{off} + \\kappa_2^\\text{on} r$"
      ],
      "text/plain": [
       "2*C_1*\\alpha_1*\\kappa_2^\\text{on} - C_1*\\alpha_2*\\kappa_2^\\text{on} + C_1*\\beta_1*\\gamma*\\kappa_2^\\text{on} + C_1*\\beta_2*\\gamma*\\kappa_2^\\text{on} + 2*C_1*\\kappa_1^\\text{off}*\\kappa_2^\\text{on} + C_1*\\kappa_1^\\text{on}*\\kappa_2^\\text{on}*r + C_1*\\kappa_2^\\text{on} + R*\\alpha_2*\\kappa_1^\\text{on} + R*\\beta_1*\\gamma*\\kappa_1^\\text{on} + R*\\beta_2*\\gamma*\\kappa_1^\\text{on} + R*\\kappa_1^\\text{on}*\\kappa_2^\\text{off} + 2*R*\\kappa_1^\\text{on}*\\kappa_2^\\text{on}*r + R*\\kappa_1^\\text{on} + \\alpha_1*\\alpha_2 + \\alpha_1*\\beta_2*\\gamma + \\alpha_1*\\gamma + \\alpha_1*\\kappa_1^\\text{on}*r + \\alpha_1*\\kappa_2^\\text{off} + \\alpha_1 + \\alpha_2*\\beta_1*\\gamma + \\alpha_2*\\gamma + \\alpha_2*\\kappa_1^\\text{off} + \\alpha_2*\\kappa_1^\\text{on}*r + \\alpha_2*\\kappa_2^\\text{on}*r + \\alpha_2 + \\beta_1*\\beta_2*\\gamma**2 + \\beta_1*\\gamma**2 + \\beta_1*\\gamma*\\kappa_2^\\text{off} + \\beta_1*\\gamma + \\beta_2*\\gamma**2 + \\beta_2*\\gamma*\\kappa_1^\\text{off} + \\beta_2*\\gamma*\\kappa_1^\\text{on}*r + \\beta_2*\\gamma + \\gamma*\\kappa_1^\\text{off} + \\gamma*\\kappa_1^\\text{on}*r + \\gamma*\\kappa_2^\\text{off} + \\gamma*\\kappa_2^\\text{on}*r + \\gamma + \\kappa_1^\\text{off}*\\kappa_2^\\text{off} + \\kappa_1^\\text{off} + \\kappa_1^\\text{on}*\\kappa_2^\\text{off}*r + \\kappa_1^\\text{on}*\\kappa_2^\\text{on}*r**2 + \\kappa_2^\\text{off} + \\kappa_2^\\text{on}*r"
      ]
     },
     "execution_count": 67,
     "metadata": {},
     "output_type": "execute_result"
    }
   ],
   "source": [
    "cfs[2]"
   ]
  },
  {
   "cell_type": "code",
   "execution_count": 68,
   "metadata": {},
   "outputs": [
    {
     "data": {
      "text/latex": [
       "$\\displaystyle C_{1} \\alpha_1 \\beta_2 \\gamma \\kappa_2^\\text{on} + 2 C_{1} \\alpha_1 \\kappa_1^\\text{on} \\kappa_2^\\text{on} r + 2 C_{1} \\alpha_1 \\kappa_2^\\text{on} - C_{1} \\alpha_2 \\beta_1 \\gamma \\kappa_2^\\text{on} - C_{1} \\alpha_2 \\kappa_1^\\text{on} \\kappa_2^\\text{on} r - C_{1} \\alpha_2 \\kappa_2^\\text{on} + C_{1} \\beta_1 \\beta_2 \\gamma^{2} \\kappa_2^\\text{on} - C_{1} \\beta_1 \\gamma \\kappa_1^\\text{on} \\kappa_2^\\text{on} r + C_{1} \\beta_1 \\gamma \\kappa_2^\\text{on} + C_{1} \\beta_2 \\gamma \\kappa_1^\\text{off} \\kappa_2^\\text{on} + C_{1} \\beta_2 \\gamma \\kappa_1^\\text{on} \\kappa_2^\\text{on} r + C_{1} \\beta_2 \\gamma \\kappa_2^\\text{on} + 2 C_{1} \\kappa_1^\\text{off} \\kappa_2^\\text{on} + R \\alpha_2 \\beta_1 \\gamma \\kappa_1^\\text{on} + R \\alpha_2 \\kappa_1^\\text{on} + R \\beta_1 \\beta_2 \\gamma^{2} \\kappa_1^\\text{on} + R \\beta_1 \\gamma \\kappa_1^\\text{on} \\kappa_2^\\text{off} + R \\beta_1 \\gamma \\kappa_1^\\text{on} + R \\beta_2 \\gamma \\kappa_1^\\text{on} \\kappa_2^\\text{on} r + R \\beta_2 \\gamma \\kappa_1^\\text{on} + R \\kappa_1^\\text{on} \\kappa_2^\\text{off} + 2 R \\kappa_1^\\text{on} \\kappa_2^\\text{on} r + \\alpha_1 \\alpha_2 \\gamma + \\alpha_1 \\alpha_2 \\kappa_1^\\text{on} r + \\alpha_1 \\alpha_2 + \\alpha_1 \\beta_2 \\gamma^{2} + \\alpha_1 \\beta_2 \\gamma \\kappa_1^\\text{on} r + \\alpha_1 \\beta_2 \\gamma + \\alpha_1 \\gamma \\kappa_1^\\text{on} r + \\alpha_1 \\gamma \\kappa_2^\\text{off} + \\alpha_1 \\gamma + \\alpha_1 \\kappa_1^\\text{on} \\kappa_2^\\text{off} r + \\alpha_1 \\kappa_2^\\text{off} + \\alpha_2 \\beta_1 \\gamma^{2} + \\alpha_2 \\beta_1 \\gamma + \\alpha_2 \\gamma \\kappa_1^\\text{off} + \\alpha_2 \\gamma \\kappa_1^\\text{on} r + \\alpha_2 \\gamma \\kappa_2^\\text{on} r + \\alpha_2 \\gamma + \\alpha_2 \\kappa_1^\\text{off} + \\alpha_2 \\kappa_1^\\text{on} \\kappa_2^\\text{on} r^{2} + \\alpha_2 \\kappa_2^\\text{on} r + \\beta_1 \\beta_2 \\gamma^{3} + \\beta_1 \\beta_2 \\gamma^{2} + \\beta_1 \\gamma^{2} \\kappa_2^\\text{off} + \\beta_1 \\gamma^{2} + \\beta_1 \\gamma \\kappa_2^\\text{off} + \\beta_2 \\gamma^{2} \\kappa_1^\\text{off} + \\beta_2 \\gamma^{2} \\kappa_1^\\text{on} r + \\beta_2 \\gamma^{2} + \\beta_2 \\gamma \\kappa_1^\\text{off} + \\gamma \\kappa_1^\\text{off} \\kappa_2^\\text{off} + \\gamma \\kappa_1^\\text{off} + \\gamma \\kappa_1^\\text{on} \\kappa_2^\\text{off} r + \\gamma \\kappa_1^\\text{on} \\kappa_2^\\text{on} r^{2} + \\gamma \\kappa_2^\\text{off} + \\gamma \\kappa_2^\\text{on} r + \\kappa_1^\\text{off} \\kappa_2^\\text{off}$"
      ],
      "text/plain": [
       "C_1*\\alpha_1*\\beta_2*\\gamma*\\kappa_2^\\text{on} + 2*C_1*\\alpha_1*\\kappa_1^\\text{on}*\\kappa_2^\\text{on}*r + 2*C_1*\\alpha_1*\\kappa_2^\\text{on} - C_1*\\alpha_2*\\beta_1*\\gamma*\\kappa_2^\\text{on} - C_1*\\alpha_2*\\kappa_1^\\text{on}*\\kappa_2^\\text{on}*r - C_1*\\alpha_2*\\kappa_2^\\text{on} + C_1*\\beta_1*\\beta_2*\\gamma**2*\\kappa_2^\\text{on} - C_1*\\beta_1*\\gamma*\\kappa_1^\\text{on}*\\kappa_2^\\text{on}*r + C_1*\\beta_1*\\gamma*\\kappa_2^\\text{on} + C_1*\\beta_2*\\gamma*\\kappa_1^\\text{off}*\\kappa_2^\\text{on} + C_1*\\beta_2*\\gamma*\\kappa_1^\\text{on}*\\kappa_2^\\text{on}*r + C_1*\\beta_2*\\gamma*\\kappa_2^\\text{on} + 2*C_1*\\kappa_1^\\text{off}*\\kappa_2^\\text{on} + R*\\alpha_2*\\beta_1*\\gamma*\\kappa_1^\\text{on} + R*\\alpha_2*\\kappa_1^\\text{on} + R*\\beta_1*\\beta_2*\\gamma**2*\\kappa_1^\\text{on} + R*\\beta_1*\\gamma*\\kappa_1^\\text{on}*\\kappa_2^\\text{off} + R*\\beta_1*\\gamma*\\kappa_1^\\text{on} + R*\\beta_2*\\gamma*\\kappa_1^\\text{on}*\\kappa_2^\\text{on}*r + R*\\beta_2*\\gamma*\\kappa_1^\\text{on} + R*\\kappa_1^\\text{on}*\\kappa_2^\\text{off} + 2*R*\\kappa_1^\\text{on}*\\kappa_2^\\text{on}*r + \\alpha_1*\\alpha_2*\\gamma + \\alpha_1*\\alpha_2*\\kappa_1^\\text{on}*r + \\alpha_1*\\alpha_2 + \\alpha_1*\\beta_2*\\gamma**2 + \\alpha_1*\\beta_2*\\gamma*\\kappa_1^\\text{on}*r + \\alpha_1*\\beta_2*\\gamma + \\alpha_1*\\gamma*\\kappa_1^\\text{on}*r + \\alpha_1*\\gamma*\\kappa_2^\\text{off} + \\alpha_1*\\gamma + \\alpha_1*\\kappa_1^\\text{on}*\\kappa_2^\\text{off}*r + \\alpha_1*\\kappa_2^\\text{off} + \\alpha_2*\\beta_1*\\gamma**2 + \\alpha_2*\\beta_1*\\gamma + \\alpha_2*\\gamma*\\kappa_1^\\text{off} + \\alpha_2*\\gamma*\\kappa_1^\\text{on}*r + \\alpha_2*\\gamma*\\kappa_2^\\text{on}*r + \\alpha_2*\\gamma + \\alpha_2*\\kappa_1^\\text{off} + \\alpha_2*\\kappa_1^\\text{on}*\\kappa_2^\\text{on}*r**2 + \\alpha_2*\\kappa_2^\\text{on}*r + \\beta_1*\\beta_2*\\gamma**3 + \\beta_1*\\beta_2*\\gamma**2 + \\beta_1*\\gamma**2*\\kappa_2^\\text{off} + \\beta_1*\\gamma**2 + \\beta_1*\\gamma*\\kappa_2^\\text{off} + \\beta_2*\\gamma**2*\\kappa_1^\\text{off} + \\beta_2*\\gamma**2*\\kappa_1^\\text{on}*r + \\beta_2*\\gamma**2 + \\beta_2*\\gamma*\\kappa_1^\\text{off} + \\gamma*\\kappa_1^\\text{off}*\\kappa_2^\\text{off} + \\gamma*\\kappa_1^\\text{off} + \\gamma*\\kappa_1^\\text{on}*\\kappa_2^\\text{off}*r + \\gamma*\\kappa_1^\\text{on}*\\kappa_2^\\text{on}*r**2 + \\gamma*\\kappa_2^\\text{off} + \\gamma*\\kappa_2^\\text{on}*r + \\kappa_1^\\text{off}*\\kappa_2^\\text{off}"
      ]
     },
     "execution_count": 68,
     "metadata": {},
     "output_type": "execute_result"
    }
   ],
   "source": [
    "cfs[3]"
   ]
  },
  {
   "cell_type": "code",
   "execution_count": 69,
   "metadata": {},
   "outputs": [
    {
     "data": {
      "text/latex": [
       "$\\displaystyle C_{1} \\alpha_1 \\beta_2 \\gamma \\kappa_1^\\text{on} \\kappa_2^\\text{on} r + C_{1} \\alpha_1 \\beta_2 \\gamma \\kappa_2^\\text{on} - C_{1} \\alpha_2 \\beta_1 \\gamma \\kappa_1^\\text{on} \\kappa_2^\\text{on} r - C_{1} \\alpha_2 \\beta_1 \\gamma \\kappa_2^\\text{on} + C_{1} \\beta_1 \\beta_2 \\gamma^{2} \\kappa_2^\\text{on} + C_{1} \\beta_2 \\gamma \\kappa_1^\\text{off} \\kappa_2^\\text{on} + R \\alpha_2 \\beta_1 \\gamma \\kappa_1^\\text{on} + R \\beta_1 \\beta_2 \\gamma^{2} \\kappa_1^\\text{on} + R \\beta_1 \\gamma \\kappa_1^\\text{on} \\kappa_2^\\text{off} + R \\beta_2 \\gamma \\kappa_1^\\text{on} \\kappa_2^\\text{on} r + \\alpha_1 \\alpha_2 \\gamma \\kappa_1^\\text{on} r + \\alpha_1 \\alpha_2 \\gamma + \\alpha_1 \\beta_2 \\gamma^{2} \\kappa_1^\\text{on} r + \\alpha_1 \\beta_2 \\gamma^{2} + \\alpha_1 \\gamma \\kappa_1^\\text{on} \\kappa_2^\\text{off} r + \\alpha_1 \\gamma \\kappa_2^\\text{off} + \\alpha_2 \\beta_1 \\gamma^{2} + \\alpha_2 \\gamma \\kappa_1^\\text{off} + \\alpha_2 \\gamma \\kappa_1^\\text{on} \\kappa_2^\\text{on} r^{2} + \\alpha_2 \\gamma \\kappa_2^\\text{on} r + \\beta_1 \\beta_2 \\gamma^{3} + \\beta_1 \\gamma^{2} \\kappa_2^\\text{off} + \\beta_2 \\gamma^{2} \\kappa_1^\\text{off} + \\gamma \\kappa_1^\\text{off} \\kappa_2^\\text{off}$"
      ],
      "text/plain": [
       "C_1*\\alpha_1*\\beta_2*\\gamma*\\kappa_1^\\text{on}*\\kappa_2^\\text{on}*r + C_1*\\alpha_1*\\beta_2*\\gamma*\\kappa_2^\\text{on} - C_1*\\alpha_2*\\beta_1*\\gamma*\\kappa_1^\\text{on}*\\kappa_2^\\text{on}*r - C_1*\\alpha_2*\\beta_1*\\gamma*\\kappa_2^\\text{on} + C_1*\\beta_1*\\beta_2*\\gamma**2*\\kappa_2^\\text{on} + C_1*\\beta_2*\\gamma*\\kappa_1^\\text{off}*\\kappa_2^\\text{on} + R*\\alpha_2*\\beta_1*\\gamma*\\kappa_1^\\text{on} + R*\\beta_1*\\beta_2*\\gamma**2*\\kappa_1^\\text{on} + R*\\beta_1*\\gamma*\\kappa_1^\\text{on}*\\kappa_2^\\text{off} + R*\\beta_2*\\gamma*\\kappa_1^\\text{on}*\\kappa_2^\\text{on}*r + \\alpha_1*\\alpha_2*\\gamma*\\kappa_1^\\text{on}*r + \\alpha_1*\\alpha_2*\\gamma + \\alpha_1*\\beta_2*\\gamma**2*\\kappa_1^\\text{on}*r + \\alpha_1*\\beta_2*\\gamma**2 + \\alpha_1*\\gamma*\\kappa_1^\\text{on}*\\kappa_2^\\text{off}*r + \\alpha_1*\\gamma*\\kappa_2^\\text{off} + \\alpha_2*\\beta_1*\\gamma**2 + \\alpha_2*\\gamma*\\kappa_1^\\text{off} + \\alpha_2*\\gamma*\\kappa_1^\\text{on}*\\kappa_2^\\text{on}*r**2 + \\alpha_2*\\gamma*\\kappa_2^\\text{on}*r + \\beta_1*\\beta_2*\\gamma**3 + \\beta_1*\\gamma**2*\\kappa_2^\\text{off} + \\beta_2*\\gamma**2*\\kappa_1^\\text{off} + \\gamma*\\kappa_1^\\text{off}*\\kappa_2^\\text{off}"
      ]
     },
     "execution_count": 69,
     "metadata": {},
     "output_type": "execute_result"
    }
   ],
   "source": [
    "cfs[4]"
   ]
  },
  {
   "cell_type": "code",
   "execution_count": 70,
   "metadata": {},
   "outputs": [
    {
     "data": {
      "text/plain": [
       "[True, True, None, None, None]"
      ]
     },
     "execution_count": 70,
     "metadata": {},
     "output_type": "execute_result"
    }
   ],
   "source": [
    "[cf.is_positive for cf in cfs]"
   ]
  },
  {
   "cell_type": "markdown",
   "metadata": {},
   "source": [
    "**Not all coefficients are always positive - test inconclusive.**"
   ]
  },
  {
   "cell_type": "code",
   "execution_count": 71,
   "metadata": {},
   "outputs": [
    {
     "data": {
      "text/plain": [
       "[(1, 12), (2, 44), (3, 58), (4, 24)]"
      ]
     },
     "execution_count": 71,
     "metadata": {},
     "output_type": "execute_result"
    }
   ],
   "source": [
    "[(i, len(Poly(cf).terms())) for (i, cf) in enumerate(cfs) if isinstance(cf, Add)]"
   ]
  },
  {
   "cell_type": "code",
   "execution_count": null,
   "metadata": {},
   "outputs": [],
   "source": []
  },
  {
   "cell_type": "code",
   "execution_count": null,
   "metadata": {},
   "outputs": [],
   "source": []
  },
  {
   "cell_type": "markdown",
   "metadata": {},
   "source": [
    "## MMI2-DMI"
   ]
  },
  {
   "cell_type": "code",
   "execution_count": 72,
   "metadata": {},
   "outputs": [],
   "source": [
    "rhs_R = s - kon*R*r - konp*R*rp + koff*C1 + koffp*C1p - R + b1*g*C1 + b1p*gp*C1p\n",
    "rhs_r = 1 - kon*R*r + koff*C1 - kon*C1p*r + koff*C2 - g*r + a1*C1 + a2*C2\n",
    "rhs_rp = srp - konp*R*rp + koffp*C1p - konp*C1*rp + koffp*C2 - gp*rp + a1p*C1p + a2*C2\n",
    "rhs_C1 = kon*R*r - koff*C1 - konp*C1*rp + koffp*C2 - a1*C1 - b1*g*C1 + b2p*gp*C2\n",
    "rhs_C1p = konp*R*rp - koffp*C1p - kon*C1p*r + koff*C2 - a1p*C1p - b1p*gp*C1p + b2*g*C2\n",
    "rhs_C2 =  kon*C1p*r + konp*C1*rp - koff*C2 - koffp*C2 -   a2*C2 - b2*g*C2 - b2p*gp*C2"
   ]
  },
  {
   "cell_type": "code",
   "execution_count": 73,
   "metadata": {},
   "outputs": [
    {
     "data": {
      "text/latex": [
       "$\\displaystyle C_{1} \\beta_1 \\gamma + C_{1} \\kappa_\\text{off} + C_1^\\prime \\beta_1^\\prime \\gamma^\\prime + C_1^\\prime \\kappa_\\text{off}^\\prime - R \\kappa_\\text{on} r - R \\kappa_\\text{on}^\\prime r^\\prime - R + \\sigma_R$"
      ],
      "text/plain": [
       "C_1*\\beta_1*\\gamma + C_1*\\kappa_\\text{off} + C_1^\\prime*\\beta_1^\\prime*\\gamma^\\prime + C_1^\\prime*\\kappa_\\text{off}^\\prime - R*\\kappa_\\text{on}*r - R*\\kappa_\\text{on}^\\prime*r^\\prime - R + \\sigma_R"
      ]
     },
     "execution_count": 73,
     "metadata": {},
     "output_type": "execute_result"
    }
   ],
   "source": [
    "rhs_R"
   ]
  },
  {
   "cell_type": "code",
   "execution_count": 74,
   "metadata": {},
   "outputs": [
    {
     "data": {
      "text/latex": [
       "$\\displaystyle C_{1} \\alpha_1 + C_{1} \\kappa_\\text{off} - C_1^\\prime \\kappa_\\text{on} r + C_{2} \\alpha_2 + C_{2} \\kappa_\\text{off} - R \\kappa_\\text{on} r - \\gamma r + 1$"
      ],
      "text/plain": [
       "C_1*\\alpha_1 + C_1*\\kappa_\\text{off} - C_1^\\prime*\\kappa_\\text{on}*r + C_2*\\alpha_2 + C_2*\\kappa_\\text{off} - R*\\kappa_\\text{on}*r - \\gamma*r + 1"
      ]
     },
     "execution_count": 74,
     "metadata": {},
     "output_type": "execute_result"
    }
   ],
   "source": [
    "rhs_r"
   ]
  },
  {
   "cell_type": "code",
   "execution_count": 75,
   "metadata": {},
   "outputs": [
    {
     "data": {
      "text/latex": [
       "$\\displaystyle - C_{1} \\kappa_\\text{on}^\\prime r^\\prime + C_1^\\prime \\alpha_1^\\prime + C_1^\\prime \\kappa_\\text{off}^\\prime + C_{2} \\alpha_2 + C_{2} \\kappa_\\text{off}^\\prime - R \\kappa_\\text{on}^\\prime r^\\prime - \\gamma^\\prime r^\\prime + \\sigma_r^\\prime$"
      ],
      "text/plain": [
       "-C_1*\\kappa_\\text{on}^\\prime*r^\\prime + C_1^\\prime*\\alpha_1^\\prime + C_1^\\prime*\\kappa_\\text{off}^\\prime + C_2*\\alpha_2 + C_2*\\kappa_\\text{off}^\\prime - R*\\kappa_\\text{on}^\\prime*r^\\prime - \\gamma^\\prime*r^\\prime + \\sigma_r^\\prime"
      ]
     },
     "execution_count": 75,
     "metadata": {},
     "output_type": "execute_result"
    }
   ],
   "source": [
    "rhs_rp"
   ]
  },
  {
   "cell_type": "code",
   "execution_count": 76,
   "metadata": {},
   "outputs": [
    {
     "data": {
      "text/latex": [
       "$\\displaystyle - C_{1} \\alpha_1 - C_{1} \\beta_1 \\gamma - C_{1} \\kappa_\\text{off} - C_{1} \\kappa_\\text{on}^\\prime r^\\prime + C_{2} \\beta_2^\\prime \\gamma^\\prime + C_{2} \\kappa_\\text{off}^\\prime + R \\kappa_\\text{on} r$"
      ],
      "text/plain": [
       "-C_1*\\alpha_1 - C_1*\\beta_1*\\gamma - C_1*\\kappa_\\text{off} - C_1*\\kappa_\\text{on}^\\prime*r^\\prime + C_2*\\beta_2^\\prime*\\gamma^\\prime + C_2*\\kappa_\\text{off}^\\prime + R*\\kappa_\\text{on}*r"
      ]
     },
     "execution_count": 76,
     "metadata": {},
     "output_type": "execute_result"
    }
   ],
   "source": [
    "rhs_C1"
   ]
  },
  {
   "cell_type": "code",
   "execution_count": 77,
   "metadata": {},
   "outputs": [
    {
     "data": {
      "text/latex": [
       "$\\displaystyle - C_1^\\prime \\alpha_1^\\prime - C_1^\\prime \\beta_1^\\prime \\gamma^\\prime - C_1^\\prime \\kappa_\\text{off}^\\prime - C_1^\\prime \\kappa_\\text{on} r + C_{2} \\beta_2 \\gamma + C_{2} \\kappa_\\text{off} + R \\kappa_\\text{on}^\\prime r^\\prime$"
      ],
      "text/plain": [
       "-C_1^\\prime*\\alpha_1^\\prime - C_1^\\prime*\\beta_1^\\prime*\\gamma^\\prime - C_1^\\prime*\\kappa_\\text{off}^\\prime - C_1^\\prime*\\kappa_\\text{on}*r + C_2*\\beta_2*\\gamma + C_2*\\kappa_\\text{off} + R*\\kappa_\\text{on}^\\prime*r^\\prime"
      ]
     },
     "execution_count": 77,
     "metadata": {},
     "output_type": "execute_result"
    }
   ],
   "source": [
    "rhs_C1p"
   ]
  },
  {
   "cell_type": "code",
   "execution_count": 78,
   "metadata": {},
   "outputs": [
    {
     "data": {
      "text/latex": [
       "$\\displaystyle C_{1} \\kappa_\\text{on}^\\prime r^\\prime + C_1^\\prime \\kappa_\\text{on} r - C_{2} \\alpha_2 - C_{2} \\beta_2 \\gamma - C_{2} \\beta_2^\\prime \\gamma^\\prime - C_{2} \\kappa_\\text{off} - C_{2} \\kappa_\\text{off}^\\prime$"
      ],
      "text/plain": [
       "C_1*\\kappa_\\text{on}^\\prime*r^\\prime + C_1^\\prime*\\kappa_\\text{on}*r - C_2*\\alpha_2 - C_2*\\beta_2*\\gamma - C_2*\\beta_2^\\prime*\\gamma^\\prime - C_2*\\kappa_\\text{off} - C_2*\\kappa_\\text{off}^\\prime"
      ]
     },
     "execution_count": 78,
     "metadata": {},
     "output_type": "execute_result"
    }
   ],
   "source": [
    "rhs_C2"
   ]
  },
  {
   "cell_type": "code",
   "execution_count": 79,
   "metadata": {},
   "outputs": [
    {
     "data": {
      "text/latex": [
       "$\\displaystyle \\left[\\begin{matrix}- \\kappa_\\text{on} r - \\kappa_\\text{on}^\\prime r^\\prime - 1 & - R \\kappa_\\text{on} & - R \\kappa_\\text{on}^\\prime & \\beta_1 \\gamma + \\kappa_\\text{off} & \\beta_1^\\prime \\gamma^\\prime + \\kappa_\\text{off}^\\prime & 0\\\\- \\kappa_\\text{on} r & - C_1^\\prime \\kappa_\\text{on} - R \\kappa_\\text{on} - \\gamma & 0 & \\alpha_1 + \\kappa_\\text{off} & - \\kappa_\\text{on} r & \\alpha_2 + \\kappa_\\text{off}\\\\- \\kappa_\\text{on}^\\prime r^\\prime & 0 & - C_{1} \\kappa_\\text{on}^\\prime - R \\kappa_\\text{on}^\\prime - \\gamma^\\prime & - \\kappa_\\text{on}^\\prime r^\\prime & \\alpha_1^\\prime + \\kappa_\\text{off}^\\prime & \\alpha_2 + \\kappa_\\text{off}^\\prime\\\\\\kappa_\\text{on} r & R \\kappa_\\text{on} & - C_{1} \\kappa_\\text{on}^\\prime & - \\alpha_1 - \\beta_1 \\gamma - \\kappa_\\text{off} - \\kappa_\\text{on}^\\prime r^\\prime & 0 & \\beta_2^\\prime \\gamma^\\prime + \\kappa_\\text{off}^\\prime\\\\\\kappa_\\text{on}^\\prime r^\\prime & - C_1^\\prime \\kappa_\\text{on} & R \\kappa_\\text{on}^\\prime & 0 & - \\alpha_1^\\prime - \\beta_1^\\prime \\gamma^\\prime - \\kappa_\\text{off}^\\prime - \\kappa_\\text{on} r & \\beta_2 \\gamma + \\kappa_\\text{off}\\\\0 & C_1^\\prime \\kappa_\\text{on} & C_{1} \\kappa_\\text{on}^\\prime & \\kappa_\\text{on}^\\prime r^\\prime & \\kappa_\\text{on} r & - \\alpha_2 - \\beta_2 \\gamma - \\beta_2^\\prime \\gamma^\\prime - \\kappa_\\text{off} - \\kappa_\\text{off}^\\prime\\end{matrix}\\right]$"
      ],
      "text/plain": [
       "Matrix([\n",
       "[-\\kappa_\\text{on}*r - \\kappa_\\text{on}^\\prime*r^\\prime - 1,                                        -R*\\kappa_\\text{on},                                               -R*\\kappa_\\text{on}^\\prime,                                                \\beta_1*\\gamma + \\kappa_\\text{off},                                         \\beta_1^\\prime*\\gamma^\\prime + \\kappa_\\text{off}^\\prime,                                                                                                        0],\n",
       "[                                       -\\kappa_\\text{on}*r, -C_1^\\prime*\\kappa_\\text{on} - R*\\kappa_\\text{on} - \\gamma,                                                                        0,                                                      \\alpha_1 + \\kappa_\\text{off},                                                                             -\\kappa_\\text{on}*r,                                                                             \\alpha_2 + \\kappa_\\text{off}],\n",
       "[                         -\\kappa_\\text{on}^\\prime*r^\\prime,                                                          0, -C_1*\\kappa_\\text{on}^\\prime - R*\\kappa_\\text{on}^\\prime - \\gamma^\\prime,                                                 -\\kappa_\\text{on}^\\prime*r^\\prime,                                                      \\alpha_1^\\prime + \\kappa_\\text{off}^\\prime,                                                                      \\alpha_2 + \\kappa_\\text{off}^\\prime],\n",
       "[                                        \\kappa_\\text{on}*r,                                         R*\\kappa_\\text{on},                                             -C_1*\\kappa_\\text{on}^\\prime, -\\alpha_1 - \\beta_1*\\gamma - \\kappa_\\text{off} - \\kappa_\\text{on}^\\prime*r^\\prime,                                                                                               0,                                                  \\beta_2^\\prime*\\gamma^\\prime + \\kappa_\\text{off}^\\prime],\n",
       "[                          \\kappa_\\text{on}^\\prime*r^\\prime,                               -C_1^\\prime*\\kappa_\\text{on},                                                R*\\kappa_\\text{on}^\\prime,                                                                                 0, -\\alpha_1^\\prime - \\beta_1^\\prime*\\gamma^\\prime - \\kappa_\\text{off}^\\prime - \\kappa_\\text{on}*r,                                                                       \\beta_2*\\gamma + \\kappa_\\text{off}],\n",
       "[                                                         0,                                C_1^\\prime*\\kappa_\\text{on},                                              C_1*\\kappa_\\text{on}^\\prime,                                                  \\kappa_\\text{on}^\\prime*r^\\prime,                                                                              \\kappa_\\text{on}*r, -\\alpha_2 - \\beta_2*\\gamma - \\beta_2^\\prime*\\gamma^\\prime - \\kappa_\\text{off} - \\kappa_\\text{off}^\\prime]])"
      ]
     },
     "execution_count": 79,
     "metadata": {},
     "output_type": "execute_result"
    }
   ],
   "source": [
    "J = Matrix([rhs_R, rhs_r, rhs_rp, rhs_C1, rhs_C1p, rhs_C2]).jacobian(Matrix([R, r, rp, C1, C1p, C2]))\n",
    "J"
   ]
  },
  {
   "cell_type": "code",
   "execution_count": 80,
   "metadata": {},
   "outputs": [],
   "source": [
    "p = J.charpoly()\n",
    "cfs = p.all_coeffs()"
   ]
  },
  {
   "cell_type": "code",
   "execution_count": 81,
   "metadata": {},
   "outputs": [
    {
     "data": {
      "text/plain": [
       "[(1, 18), (2, 142), (3, 576), (4, 1075), (5, 906), (6, 274)]"
      ]
     },
     "execution_count": 81,
     "metadata": {},
     "output_type": "execute_result"
    }
   ],
   "source": [
    "[(i, len(Poly(cf).terms())) for (i, cf) in enumerate(cfs) if isinstance(cf, Add)]"
   ]
  },
  {
   "cell_type": "code",
   "execution_count": 82,
   "metadata": {},
   "outputs": [
    {
     "data": {
      "text/plain": [
       "[-1, -1, -1, -1, -1, -1, -1, -1, -1, -1, -1]"
      ]
     },
     "execution_count": 82,
     "metadata": {},
     "output_type": "execute_result"
    }
   ],
   "source": [
    "# This is a sixth-order system with huge coefficients - check simple necessary conditions like a[n] > 0 first\n",
    "[c for c in poly(cfs[6]).coeffs() if c < 0]"
   ]
  },
  {
   "cell_type": "code",
   "execution_count": 83,
   "metadata": {},
   "outputs": [
    {
     "data": {
      "text/latex": [
       "$\\displaystyle 1$"
      ],
      "text/plain": [
       "1"
      ]
     },
     "execution_count": 83,
     "metadata": {},
     "output_type": "execute_result"
    }
   ],
   "source": [
    "max(c for c in poly(cfs[6]).coeffs())"
   ]
  },
  {
   "cell_type": "code",
   "execution_count": 84,
   "metadata": {},
   "outputs": [
    {
     "data": {
      "text/latex": [
       "$\\displaystyle - C_1^\\prime R \\alpha_2 \\beta_1 \\beta_1^\\prime \\gamma \\gamma^\\prime \\kappa_\\text{on}^{2} \\kappa_\\text{on}^\\prime r$"
      ],
      "text/plain": [
       "-C_1^\\prime*R*\\alpha_2*\\beta_1*\\beta_1^\\prime*\\gamma*\\gamma^\\prime*\\kappa_\\text{on}**2*\\kappa_\\text{on}^\\prime*r"
      ]
     },
     "execution_count": 84,
     "metadata": {},
     "output_type": "execute_result"
    }
   ],
   "source": [
    "a6 = cfs[-1]\n",
    "a6.args[-1]"
   ]
  },
  {
   "cell_type": "code",
   "execution_count": 85,
   "metadata": {},
   "outputs": [
    {
     "data": {
      "text/latex": [
       "$\\displaystyle C_{1} \\alpha_1^\\prime \\beta_2^\\prime \\gamma \\gamma^\\prime \\kappa_\\text{off} \\kappa_\\text{on}^\\prime$"
      ],
      "text/plain": [
       "C_1*\\alpha_1^\\prime*\\beta_2^\\prime*\\gamma*\\gamma^\\prime*\\kappa_\\text{off}*\\kappa_\\text{on}^\\prime"
      ]
     },
     "execution_count": 85,
     "metadata": {},
     "output_type": "execute_result"
    }
   ],
   "source": [
    "a6.args[81]"
   ]
  },
  {
   "cell_type": "code",
   "execution_count": 86,
   "metadata": {},
   "outputs": [
    {
     "name": "stdout",
     "output_type": "stream",
     "text": [
      "None\n"
     ]
    }
   ],
   "source": [
    "print(cfs[6].is_positive)"
   ]
  },
  {
   "cell_type": "markdown",
   "metadata": {},
   "source": [
    "**A necessary coefficient is not always positive - test inconclusive.**"
   ]
  },
  {
   "cell_type": "code",
   "execution_count": null,
   "metadata": {},
   "outputs": [],
   "source": []
  }
 ],
 "metadata": {
  "kernelspec": {
   "display_name": "Python 3",
   "language": "python",
   "name": "python3"
  },
  "language_info": {
   "codemirror_mode": {
    "name": "ipython",
    "version": 3
   },
   "file_extension": ".py",
   "mimetype": "text/x-python",
   "name": "python",
   "nbconvert_exporter": "python",
   "pygments_lexer": "ipython3",
   "version": "3.6.7"
  }
 },
 "nbformat": 4,
 "nbformat_minor": 4
}
