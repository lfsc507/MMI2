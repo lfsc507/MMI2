{
 "cells": [
  {
   "cell_type": "code",
   "execution_count": 1,
   "metadata": {},
   "outputs": [],
   "source": [
    "import pandas as pd"
   ]
  },
  {
   "cell_type": "markdown",
   "metadata": {},
   "source": [
    "## Input file 1: TargetScan summary count file\n",
    "http://www.targetscan.org/cgi-bin/targetscan/data_download.vert80.cgi"
   ]
  },
  {
   "cell_type": "code",
   "execution_count": 17,
   "metadata": {},
   "outputs": [],
   "source": [
    "df = pd.read_csv('Summary_Counts.default_predictions.txt', '\\t')"
   ]
  },
  {
   "cell_type": "markdown",
   "metadata": {},
   "source": [
    "## Input file 2: miRTarBase file for experimentally validated binding \n",
    "https://mirtarbase.cuhk.edu.cn/~miRTarBase/miRTarBase_2022/php/download.php"
   ]
  },
  {
   "cell_type": "code",
   "execution_count": 5,
   "metadata": {},
   "outputs": [],
   "source": [
    "dfe = pd.read_excel('hsa_MTI.xlsx')"
   ]
  },
  {
   "cell_type": "markdown",
   "metadata": {},
   "source": [
    "## Predicted human genes with > 1 conserved binding site"
   ]
  },
  {
   "cell_type": "code",
   "execution_count": 14,
   "metadata": {},
   "outputs": [
    {
     "data": {
      "text/plain": [
       "(10483, 16)"
      ]
     },
     "execution_count": 14,
     "metadata": {},
     "output_type": "execute_result"
    }
   ],
   "source": [
    "dfh = df[df['Species ID'] == 9606]\n",
    "dfhg = dfh.groupby('Gene Symbol').agg('sum')\n",
    "dfhg[(dfhg['Total num conserved sites'])> 1].shape"
   ]
  },
  {
   "cell_type": "code",
   "execution_count": 15,
   "metadata": {},
   "outputs": [],
   "source": [
    "targ_2sites_list = dfhg[(dfhg['Total num conserved sites'])> 1].index.tolist()"
   ]
  },
  {
   "cell_type": "code",
   "execution_count": null,
   "metadata": {},
   "outputs": [],
   "source": []
  },
  {
   "cell_type": "markdown",
   "metadata": {},
   "source": [
    "## Experimentally validated genes interacting with > 1 microRNA"
   ]
  },
  {
   "cell_type": "code",
   "execution_count": null,
   "metadata": {},
   "outputs": [],
   "source": [
    "nmis = []\n",
    "for gene in dfe['Target Gene'].unique():\n",
    "    dfeg = dfe[dfe['Target Gene'] ==  gene]\n",
    "    # Extract prefix\n",
    "    nmi = len(set(dfeg.miRNA.str.extract(r'(hsa-(?:(?:miR)|(?:let))-\\d+)')[0]))\n",
    "    nmis.append([gene, nmi])\n",
    "\n",
    "dfnmis = pd.DataFrame(nmis, columns=['Gene', 'NmiRNAs'])\n",
    "base_2sites_list = dfnmis[(dfnmis.NmiRNAs > 1)]['Gene'].tolist()\n",
    "len(list(set(dfe['Target Gene'].unique()).intersection(dfh['Gene Symbol'].unique())))"
   ]
  },
  {
   "cell_type": "code",
   "execution_count": null,
   "metadata": {},
   "outputs": [],
   "source": []
  },
  {
   "cell_type": "markdown",
   "metadata": {},
   "source": [
    "## Intersection of the two sets"
   ]
  },
  {
   "cell_type": "code",
   "execution_count": 18,
   "metadata": {},
   "outputs": [
    {
     "data": {
      "text/plain": [
       "8420"
      ]
     },
     "execution_count": 18,
     "metadata": {},
     "output_type": "execute_result"
    }
   ],
   "source": [
    "len(set(targ_2sites_list).intersection(base_2sites_list))"
   ]
  }
 ],
 "metadata": {
  "kernelspec": {
   "display_name": "Python 3",
   "language": "python",
   "name": "python3"
  },
  "language_info": {
   "codemirror_mode": {
    "name": "ipython",
    "version": 3
   },
   "file_extension": ".py",
   "mimetype": "text/x-python",
   "name": "python",
   "nbconvert_exporter": "python",
   "pygments_lexer": "ipython3",
   "version": "3.6.7"
  }
 },
 "nbformat": 4,
 "nbformat_minor": 2
}
